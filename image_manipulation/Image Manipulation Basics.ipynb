{
 "cells": [
  {
   "cell_type": "markdown",
   "id": "d6d2a311",
   "metadata": {},
   "source": [
    "# Using PIL (Pillow) for image manipulation\n",
    "see https://pillow.readthedocs.io/en/stable/handbook/tutorial.html\n",
    "\n",
    "*Note: for compatibility with old code, Pillow is imported as `PIL`)*"
   ]
  },
  {
   "cell_type": "markdown",
   "id": "197152cb-0f30-4403-b67b-fbd519b5ec2d",
   "metadata": {},
   "source": [
    "In this tutorial you will learn:\n",
    "\n",
    "- how to load an image\n",
    "- how to read and write the color of a single pixel\n",
    "- how to change the color depth of an image\n"
   ]
  },
  {
   "cell_type": "code",
   "execution_count": null,
   "id": "845900b4",
   "metadata": {},
   "outputs": [],
   "source": [
    "from PIL import Image"
   ]
  },
  {
   "cell_type": "code",
   "execution_count": null,
   "id": "8573a428",
   "metadata": {},
   "outputs": [],
   "source": [
    "i = Image.open(\"example.png\")"
   ]
  },
  {
   "cell_type": "code",
   "execution_count": null,
   "id": "1e2974f3",
   "metadata": {},
   "outputs": [],
   "source": [
    "type(i)"
   ]
  },
  {
   "cell_type": "code",
   "execution_count": null,
   "id": "999c91c3",
   "metadata": {},
   "outputs": [],
   "source": [
    "i.getpixel((10,10))"
   ]
  },
  {
   "cell_type": "code",
   "execution_count": null,
   "id": "e1172048",
   "metadata": {},
   "outputs": [],
   "source": [
    "i.putpixel((10,10),(255,255,0,255))\n",
    "i"
   ]
  },
  {
   "cell_type": "code",
   "execution_count": null,
   "id": "49ebb196",
   "metadata": {},
   "outputs": [],
   "source": [
    "ig = i.convert(\"L\")   # ig: image_greyscale "
   ]
  },
  {
   "cell_type": "code",
   "execution_count": null,
   "id": "4d5dedfc",
   "metadata": {},
   "outputs": [],
   "source": [
    "ig"
   ]
  },
  {
   "cell_type": "code",
   "execution_count": null,
   "id": "dc2c668d",
   "metadata": {},
   "outputs": [],
   "source": [
    "i2 = Image.new(\"L\", (8, 8))"
   ]
  },
  {
   "cell_type": "code",
   "execution_count": null,
   "id": "14645f73",
   "metadata": {},
   "outputs": [],
   "source": [
    "i2"
   ]
  },
  {
   "cell_type": "code",
   "execution_count": null,
   "id": "91357fcc",
   "metadata": {},
   "outputs": [],
   "source": [
    "col = 0\n",
    "for x in range(i2.width):\n",
    "    for y in range(i2.height):\n",
    "       i2.putpixel((x, y), col)\n",
    "       col+=2\n",
    "    col += 10"
   ]
  },
  {
   "cell_type": "code",
   "execution_count": null,
   "id": "194e129d",
   "metadata": {},
   "outputs": [],
   "source": [
    "i2.resize((256,256))"
   ]
  },
  {
   "cell_type": "code",
   "execution_count": null,
   "id": "3b608b1f",
   "metadata": {},
   "outputs": [],
   "source": [
    "i2"
   ]
  },
  {
   "cell_type": "markdown",
   "id": "65491fc0-c996-40b9-9b66-65d108f7b3d5",
   "metadata": {},
   "source": [
    "*(note that the resize method returns a new image and does not modify the original image)*"
   ]
  },
  {
   "cell_type": "markdown",
   "id": "3d3178df",
   "metadata": {},
   "source": [
    "## A simple threshold function"
   ]
  },
  {
   "cell_type": "markdown",
   "id": "164f772a-8427-4804-af2c-d9a160834377",
   "metadata": {},
   "source": [
    "**If you don't know what *histogram* or *threshold function* means in computer graphics, please read up on these terms first.**"
   ]
  },
  {
   "cell_type": "code",
   "execution_count": null,
   "id": "147ba9b3",
   "metadata": {},
   "outputs": [],
   "source": [
    "from matplotlib import pyplot as plt"
   ]
  },
  {
   "cell_type": "code",
   "execution_count": null,
   "id": "9c935949",
   "metadata": {},
   "outputs": [],
   "source": [
    "ig = ig = i.convert(\"L\") "
   ]
  },
  {
   "cell_type": "code",
   "execution_count": null,
   "id": "5ee13685",
   "metadata": {},
   "outputs": [],
   "source": [
    "# get a list of all pixels\n",
    "pixels = [ig.getpixel((x, y)) for x in range(ig.width) for y in range(ig.height)]"
   ]
  },
  {
   "cell_type": "code",
   "execution_count": null,
   "id": "9ab0e522",
   "metadata": {},
   "outputs": [],
   "source": [
    "_ = plt.hist(pixels, bins=256)"
   ]
  },
  {
   "cell_type": "markdown",
   "id": "050eabc4-060d-492d-aa4a-0b3624f5d2c1",
   "metadata": {},
   "source": [
    "*Note on Python style: using an underscore ('_') as a variable name is obviously a bad idea: this name does not tell you anything about what that variable means.\n",
    "But that's actally the point here: [we use underscores for results that we just want to ignore](https://stackoverflow.com/questions/5893163/what-is-the-purpose-of-the-single-underscore-variable-in-python).*"
   ]
  },
  {
   "cell_type": "code",
   "execution_count": null,
   "id": "1086be81",
   "metadata": {},
   "outputs": [],
   "source": [
    "def threshold(image, value):\n",
    "    img = image.copy()\n",
    "    for x in range(img.width):\n",
    "        for y in range(img.height):\n",
    "            if img.getpixel((x, y)) < value:\n",
    "                new_value = 0            \n",
    "            else:\n",
    "                new_value = 255            \n",
    "            img.putpixel((x, y), new_value)\n",
    "    return img"
   ]
  },
  {
   "cell_type": "code",
   "execution_count": null,
   "id": "67fbad8e",
   "metadata": {},
   "outputs": [],
   "source": [
    "threshold(ig, 100)"
   ]
  },
  {
   "cell_type": "markdown",
   "id": "c952161f-2a44-4796-977d-0f952b5cd343",
   "metadata": {},
   "source": [
    "## Interactive widgets\n",
    "\n",
    "The ipywidgets extension allows you to add interactive widgets to your notebook, such as sliders, buttons, etc. \n",
    "\n",
    "Please have a look at the [ipywidgets](https://github.com/jupyter-widgets/ipywidgets) documentation and find out how to install the extension on your operating system. "
   ]
  },
  {
   "cell_type": "code",
   "execution_count": null,
   "id": "95e39da5",
   "metadata": {},
   "outputs": [],
   "source": [
    "# with pip: pip install ipywidgets\n",
    "\n",
    "from ipywidgets import interact, fixed\n",
    "# attention: does not work on the default Schlaubox JupyterLab instance\n",
    "# see https://stackoverflow.com/questions/49542417/how-to-get-ipywidgets-working-in-jupyter-lab"
   ]
  },
  {
   "cell_type": "code",
   "execution_count": null,
   "id": "3faf9b68",
   "metadata": {},
   "outputs": [],
   "source": [
    "def make_threshold_function(image):\n",
    "    def thresh(value):\n",
    "        return threshold(image, value)\n",
    "    return thresh\n",
    "\n",
    "thresh_on_ig = make_threshold_function(ig)"
   ]
  },
  {
   "cell_type": "markdown",
   "id": "32241ed3-6fee-4d4d-be1f-64b82037ed41",
   "metadata": {},
   "source": [
    "*Python note: [partial application](https://en.wikipedia.org/wiki/Partial_application) is 'trick' to transform a function that needs two parameters into one that only needs one parameter - because the other parameter is already 'embedded' into the function. In Python, this can be done via a 'closure', i.e., a function within a function. Because the inner function 'inherits' the variables defined in the outer function, it knows about the `image` variable even though we don't pass it as a parameter to the inner function.*"
   ]
  },
  {
   "cell_type": "code",
   "execution_count": null,
   "id": "aef76bf7",
   "metadata": {},
   "outputs": [],
   "source": [
    "thresh_on_ig(200)"
   ]
  },
  {
   "cell_type": "code",
   "execution_count": null,
   "id": "3c8da98e",
   "metadata": {},
   "outputs": [],
   "source": [
    "interact(thresh_on_ig, value=128)"
   ]
  },
  {
   "cell_type": "code",
   "execution_count": null,
   "id": "ec591dfb",
   "metadata": {},
   "outputs": [],
   "source": [
    "interact(threshold, image=fixed(ig), value=128)"
   ]
  },
  {
   "cell_type": "markdown",
   "id": "9141ad47-0944-4470-a701-4de1ecf199e0",
   "metadata": {},
   "source": [
    "## Your tasks\n",
    "\n",
    "Try to complete them until our tutorial session next Tuesday. I will have a look at your solutions and expect working code for at least the first three tasks. "
   ]
  },
  {
   "cell_type": "markdown",
   "id": "6065afc3-b076-4fea-9ace-417a64815fd1",
   "metadata": {},
   "source": [
    "1. Write a filter function \"brightness\" which scales each pixel's value by a factor between 0.0 and 1.0. Also add a slider widget that allows you to interactively modify the brightness. "
   ]
  },
  {
   "cell_type": "code",
   "execution_count": null,
   "id": "a62ccc27-b00e-4510-bf62-258cef74fc35",
   "metadata": {},
   "outputs": [],
   "source": []
  },
  {
   "cell_type": "markdown",
   "id": "2c33fa12-ed71-4238-b5bb-3f1b86234fe9",
   "metadata": {},
   "source": [
    "2. Write another filter function \"contrast\" and add an interactive widget for controlling it."
   ]
  },
  {
   "cell_type": "code",
   "execution_count": null,
   "id": "d8063f81-f862-4720-8e86-c78a88aeb421",
   "metadata": {},
   "outputs": [],
   "source": []
  },
  {
   "cell_type": "markdown",
   "id": "0e17703a-bef7-405d-bbef-75a70159194d",
   "metadata": {},
   "source": [
    "3.  Create a cell with two slider widgets - one for brightness, one for contrast. \n",
    "    These should operate on the example image together - not on two different images.\n",
    "\n",
    "*Hint: This means that you want each of the sliders to update a global variable (brightness / contrast) and then call a function `brightness_contrast(img, brightness, contrast)` or similar.*"
   ]
  },
  {
   "cell_type": "code",
   "execution_count": null,
   "id": "6f7a4956-ade0-4060-a1e8-405d8ff8b0f8",
   "metadata": {},
   "outputs": [],
   "source": []
  },
  {
   "cell_type": "markdown",
   "id": "d730ff60-23f2-4bd0-8801-50095def346d",
   "metadata": {},
   "source": [
    "4. Create another 'editor' that applies the `brightness` filter to an RGB image (i.e. `i`instead of `ig`."
   ]
  },
  {
   "cell_type": "code",
   "execution_count": null,
   "id": "6767f7c6-2bc8-484a-a196-da6a0d4e5b76",
   "metadata": {},
   "outputs": [],
   "source": []
  },
  {
   "cell_type": "markdown",
   "id": "8ac6529f-8f08-44dd-a553-e679f2a383cc",
   "metadata": {},
   "source": [
    "5. Create another cell that allows you to scale the RGB values of an image independently (i.e. vary the brightness of each channel individually)"
   ]
  },
  {
   "cell_type": "code",
   "execution_count": null,
   "id": "b0926d57-af92-4be4-86f2-3d3a7b18502e",
   "metadata": {},
   "outputs": [],
   "source": []
  }
 ],
 "metadata": {
  "kernelspec": {
   "display_name": "Python 3",
   "language": "python",
   "name": "python3"
  },
  "language_info": {
   "codemirror_mode": {
    "name": "ipython",
    "version": 3
   },
   "file_extension": ".py",
   "mimetype": "text/x-python",
   "name": "python",
   "nbconvert_exporter": "python",
   "pygments_lexer": "ipython3",
   "version": "3.10.5"
  }
 },
 "nbformat": 4,
 "nbformat_minor": 5
}
