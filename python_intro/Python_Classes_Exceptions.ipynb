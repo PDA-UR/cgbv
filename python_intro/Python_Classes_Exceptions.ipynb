{
 "cells": [
  {
   "cell_type": "markdown",
   "metadata": {},
   "source": [
    "# Classes and Exceptions"
   ]
  },
  {
   "cell_type": "markdown",
   "metadata": {},
   "source": [
    "## Classes"
   ]
  },
  {
   "cell_type": "code",
   "execution_count": null,
   "metadata": {},
   "outputs": [],
   "source": [
    "class Wurst:\n",
    "    x = 5"
   ]
  },
  {
   "cell_type": "code",
   "execution_count": null,
   "metadata": {},
   "outputs": [],
   "source": [
    "Wurst.x"
   ]
  },
  {
   "cell_type": "code",
   "execution_count": null,
   "metadata": {},
   "outputs": [],
   "source": [
    "type(Wurst)"
   ]
  },
  {
   "cell_type": "code",
   "execution_count": null,
   "metadata": {},
   "outputs": [],
   "source": [
    "# instantiating a new object\n",
    "my_wurst = Wurst()\n",
    "my_wurst.x"
   ]
  },
  {
   "cell_type": "code",
   "execution_count": null,
   "metadata": {},
   "outputs": [],
   "source": [
    "my_wurst.x = 445\n",
    "my_wurst.x"
   ]
  },
  {
   "cell_type": "code",
   "execution_count": null,
   "metadata": {},
   "outputs": [],
   "source": [
    "Wurst.x"
   ]
  },
  {
   "cell_type": "code",
   "execution_count": null,
   "metadata": {},
   "outputs": [],
   "source": [
    "class Cake:\n",
    "    \n",
    "    VALID_TYPES = [\"\", \"vegan\", \"diet\"] # convention: constants in CAPITALS\n",
    "    __private_value = \"Geheim\"\n",
    "    \n",
    "    def __init__(self, name=\"Kuchen\", cake_type=\"\"):\n",
    "        self.name = name\n",
    "        self.set_type(cake_type)\n",
    "                   \n",
    "    def set_type(self, cake_type):\n",
    "        if cake_type in self.VALID_TYPES:\n",
    "            self._cake_type = cake_type\n",
    "        else: \n",
    "            self._cake_type = \"invalid\"\n",
    "    \n",
    "    @classmethod\n",
    "    def get_cake_types(cls):\n",
    "        return cls.VALID_TYPES\n",
    "                   \n",
    "    @staticmethod                   \n",
    "    def mm_to_inch(mm):\n",
    "        return mm/25.4\n",
    "    \n",
    "    def __str__(self):\n",
    "        return \"Cake '%s' of type '%s'\" % (self.name, self._cake_type)"
   ]
  },
  {
   "cell_type": "code",
   "execution_count": null,
   "metadata": {},
   "outputs": [],
   "source": [
    "class Pie(Cake):\n",
    "    topping = \"apple\""
   ]
  },
  {
   "cell_type": "code",
   "execution_count": null,
   "metadata": {},
   "outputs": [],
   "source": [
    "p1 = Pie()\n",
    "print(p1.topping)"
   ]
  },
  {
   "cell_type": "code",
   "execution_count": null,
   "metadata": {},
   "outputs": [],
   "source": [
    "a = Cake()\n",
    "b = Cake(name=\"Erdbeerkuchen\")\n",
    "c = Cake(cake_type=\"Wurst\")\n",
    "print(a, b, c)"
   ]
  },
  {
   "cell_type": "markdown",
   "metadata": {},
   "source": [
    "## Exceptions"
   ]
  },
  {
   "cell_type": "code",
   "execution_count": null,
   "metadata": {},
   "outputs": [],
   "source": [
    "class Cake:\n",
    "    \n",
    "    VALID_TYPES = [\"\", \"vegan\", \"diet\"] # convention: constants in CAPITALS\n",
    "    __private_value = \"Geheim\"\n",
    "    \n",
    "    def __init__(self, name=\"Kuchen\", cake_type=\"\"):\n",
    "        self.name = name\n",
    "        self.set_type(cake_type)\n",
    "                   \n",
    "    def set_type(self, cake_type): # now with exceptions!\n",
    "        if cake_type in self.VALID_TYPES:\n",
    "            self._cake_type = cake_type\n",
    "        else: \n",
    "            raise ValueError(\"cake_type not in \" + str(self.VALID_TYPES))\n",
    "    \n",
    "    @classmethod\n",
    "    def get_cake_types(cls):\n",
    "        return cls.VALID_TYPES\n",
    "                   \n",
    "    @staticmethod                   \n",
    "    def mm_to_inch(mm):\n",
    "        return mm/25.4\n",
    "    \n",
    "    def __str__(self):\n",
    "        return \"Cake '%s' of type '%s'\" % (self.name, self._cake_type)"
   ]
  },
  {
   "cell_type": "code",
   "execution_count": null,
   "metadata": {},
   "outputs": [],
   "source": [
    "d = Cake(\"Schokokuchen\", \"Schokolade\")"
   ]
  },
  {
   "cell_type": "code",
   "execution_count": null,
   "metadata": {},
   "outputs": [],
   "source": [
    "def make_safe_cake(name, cake_type):\n",
    "    try:\n",
    "        c = Cake(name, cake_type)\n",
    "    except ValueError as e: # always be as precise as possible when declaring which exceptions to catch\n",
    "        print(\"Warning: \" + str(e))\n",
    "        c = Cake(name + \" (\" + str(cake_type) + \")\")\n",
    "    return c"
   ]
  },
  {
   "cell_type": "code",
   "execution_count": null,
   "metadata": {},
   "outputs": [],
   "source": [
    "apfelfleischkuchen = make_safe_cake(\"Apfelkuchen\", \"mit Fleisch\")"
   ]
  },
  {
   "cell_type": "code",
   "execution_count": null,
   "metadata": {},
   "outputs": [],
   "source": [
    "print(apfelfleischkuchen)"
   ]
  }
 ],
 "metadata": {
  "kernelspec": {
   "display_name": "Python 3",
   "language": "python",
   "name": "python3"
  },
  "language_info": {
   "codemirror_mode": {
    "name": "ipython",
    "version": 3
   },
   "file_extension": ".py",
   "mimetype": "text/x-python",
   "name": "python",
   "nbconvert_exporter": "python",
   "pygments_lexer": "ipython3",
   "version": "3.10.5"
  }
 },
 "nbformat": 4,
 "nbformat_minor": 4
}
