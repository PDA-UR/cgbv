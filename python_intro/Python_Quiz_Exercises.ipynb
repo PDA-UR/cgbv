{
 "cells": [
  {
   "cell_type": "markdown",
   "id": "d6d071ca",
   "metadata": {},
   "source": [
    "# Python Quiz\n",
    "Try to guess what the output is when you execute a cell.\n",
    "Tips: \n",
    "* execute cells by pressing `Shift-Enter`. \n",
    "* execute a cell and insert an empty cell below: `Alt-Enter`."
   ]
  },
  {
   "cell_type": "code",
   "execution_count": 1,
   "id": "433648e7",
   "metadata": {},
   "outputs": [
    {
     "name": "stdout",
     "output_type": "stream",
     "text": [
      "10\n"
     ]
    }
   ],
   "source": [
    "x = 5\n",
    "print(x+x)"
   ]
  },
  {
   "cell_type": "code",
   "execution_count": 2,
   "id": "f16c5850",
   "metadata": {},
   "outputs": [
    {
     "ename": "TypeError",
     "evalue": "unsupported operand type(s) for +: 'int' and 'str'",
     "output_type": "error",
     "traceback": [
      "\u001b[0;31m---------------------------------------------------------------------------\u001b[0m",
      "\u001b[0;31mTypeError\u001b[0m                                 Traceback (most recent call last)",
      "Cell \u001b[0;32mIn [2], line 1\u001b[0m\n\u001b[0;32m----> 1\u001b[0m x \u001b[38;5;241m=\u001b[39m \u001b[43mx\u001b[49m\u001b[43m \u001b[49m\u001b[38;5;241;43m+\u001b[39;49m\u001b[43m \u001b[49m\u001b[38;5;124;43m\"\u001b[39;49m\u001b[38;5;124;43m7\u001b[39;49m\u001b[38;5;124;43m\"\u001b[39;49m\n\u001b[1;32m      2\u001b[0m \u001b[38;5;28mprint\u001b[39m(x)\n",
      "\u001b[0;31mTypeError\u001b[0m: unsupported operand type(s) for +: 'int' and 'str'"
     ]
    }
   ],
   "source": [
    "x = x + \"7\"\n",
    "print(x)"
   ]
  },
  {
   "cell_type": "code",
   "execution_count": 3,
   "id": "bd31c7dd",
   "metadata": {},
   "outputs": [
    {
     "name": "stdout",
     "output_type": "stream",
     "text": [
      "10\n"
     ]
    }
   ],
   "source": [
    "print(x+x)"
   ]
  },
  {
   "cell_type": "code",
   "execution_count": 4,
   "id": "3dd9a0f9",
   "metadata": {},
   "outputs": [],
   "source": [
    "def test(number=5):\n",
    "    print(number)"
   ]
  },
  {
   "cell_type": "code",
   "execution_count": 5,
   "id": "7c7c6a22",
   "metadata": {},
   "outputs": [
    {
     "name": "stdout",
     "output_type": "stream",
     "text": [
      "5\n"
     ]
    }
   ],
   "source": [
    "test()"
   ]
  },
  {
   "cell_type": "code",
   "execution_count": 6,
   "id": "56c1d05d",
   "metadata": {},
   "outputs": [
    {
     "name": "stdout",
     "output_type": "stream",
     "text": [
      "12\n"
     ]
    }
   ],
   "source": [
    "test(12)"
   ]
  },
  {
   "cell_type": "code",
   "execution_count": 7,
   "id": "d36ed690",
   "metadata": {},
   "outputs": [
    {
     "ename": "NameError",
     "evalue": "name 'number' is not defined",
     "output_type": "error",
     "traceback": [
      "\u001b[0;31m---------------------------------------------------------------------------\u001b[0m",
      "\u001b[0;31mNameError\u001b[0m                                 Traceback (most recent call last)",
      "Cell \u001b[0;32mIn [7], line 1\u001b[0m\n\u001b[0;32m----> 1\u001b[0m \u001b[38;5;28mprint\u001b[39m(\u001b[43mnumber\u001b[49m)\n",
      "\u001b[0;31mNameError\u001b[0m: name 'number' is not defined"
     ]
    }
   ],
   "source": [
    "print(number)"
   ]
  },
  {
   "cell_type": "code",
   "execution_count": 8,
   "id": "1e354925",
   "metadata": {},
   "outputs": [
    {
     "name": "stdout",
     "output_type": "stream",
     "text": [
      "4\n",
      "3\n"
     ]
    }
   ],
   "source": [
    "x = [1,2,3,4,5,6]\n",
    "y = range(6)\n",
    "\n",
    "print(x[3])\n",
    "print(y[3])"
   ]
  },
  {
   "cell_type": "code",
   "execution_count": 9,
   "id": "ca1c5578",
   "metadata": {},
   "outputs": [
    {
     "name": "stdout",
     "output_type": "stream",
     "text": [
      "YEAH\n"
     ]
    }
   ],
   "source": [
    "if True or False:\n",
    "    print(\"YEAH\")"
   ]
  },
  {
   "cell_type": "code",
   "execution_count": 11,
   "id": "59299f32",
   "metadata": {},
   "outputs": [
    {
     "data": {
      "text/plain": [
       "7"
      ]
     },
     "execution_count": 11,
     "metadata": {},
     "output_type": "execute_result"
    }
   ],
   "source": [
    "from random import randint as randy\n",
    "randy(0,12)"
   ]
  },
  {
   "cell_type": "markdown",
   "id": "5998d5fa",
   "metadata": {},
   "source": [
    "# Python Exercises\n",
    "Complete/change the following code blocks so that the `assert()` statements are successful (i.e., no AssertionError is thrown)"
   ]
  },
  {
   "cell_type": "code",
   "execution_count": 12,
   "id": "17b5e546",
   "metadata": {},
   "outputs": [],
   "source": [
    "x = 7.0"
   ]
  },
  {
   "cell_type": "code",
   "execution_count": 13,
   "id": "7b52a942-e359-4037-9acc-f47084fdd7a7",
   "metadata": {},
   "outputs": [
    {
     "data": {
      "text/plain": [
       "float"
      ]
     },
     "execution_count": 13,
     "metadata": {},
     "output_type": "execute_result"
    }
   ],
   "source": [
    "type(x)"
   ]
  },
  {
   "cell_type": "code",
   "execution_count": 15,
   "id": "e3a16baf-42bd-435a-a92c-c50928717de0",
   "metadata": {},
   "outputs": [],
   "source": [
    "assert(type(x) is float)"
   ]
  },
  {
   "cell_type": "code",
   "execution_count": 18,
   "id": "ef6383d1",
   "metadata": {},
   "outputs": [],
   "source": [
    "def get_squared_number(num):\n",
    "    return num * num"
   ]
  },
  {
   "cell_type": "code",
   "execution_count": 19,
   "id": "9f83e5ac-31c0-4a46-b5f9-1991d88c8005",
   "metadata": {},
   "outputs": [],
   "source": [
    "assert(get_squared_number(7) == 49)\n",
    "assert(get_squared_number(-5) == 25)"
   ]
  },
  {
   "cell_type": "code",
   "execution_count": null,
   "id": "145e68f7",
   "metadata": {},
   "outputs": [],
   "source": [
    "def print_all_even_numbers_in_list(my_list):\n",
    "    return my_list"
   ]
  },
  {
   "cell_type": "code",
   "execution_count": null,
   "id": "9c01037e-8ad5-4c8d-b3eb-10b18fcd9b49",
   "metadata": {},
   "outputs": [],
   "source": [
    "assert(print_all_even_numbers_in_list([1,3,4,-2,5,8,0]) == [4,-2,8,0])"
   ]
  },
  {
   "cell_type": "code",
   "execution_count": null,
   "id": "a6ea1f9e",
   "metadata": {},
   "outputs": [],
   "source": [
    "# TODO: handle empty parameter\n",
    "def reverse_string(my_string):\n",
    "    return my_string"
   ]
  },
  {
   "cell_type": "code",
   "execution_count": null,
   "id": "f871d7ff-d17b-45ea-8513-31e7c2ffe160",
   "metadata": {},
   "outputs": [],
   "source": [
    "assert(reverse_string(\"computer\") == \"retupmoc\")\n",
    "assert(reverse_string(\"\") == \"\")\n",
    "assert(reverse_string(None) == None)"
   ]
  },
  {
   "cell_type": "code",
   "execution_count": 20,
   "id": "76b6315c",
   "metadata": {},
   "outputs": [],
   "source": [
    "from datetime import datetime # hint: check now whether you can get the current year \n",
    "\n",
    "class Person:\n",
    "    \n",
    "    def __init__(self, name, current_age):\n",
    "        self.name = name\n",
    "        self.born = datetime.now().year - current_age\n",
    "        \n",
    "    def age(self, year=None):\n",
    "        if not year:\n",
    "            return -1 # TODO: return the person's age in the current year\n",
    "        else:\n",
    "            return -1 # TODO: return the person's age in the year given as parameter"
   ]
  },
  {
   "cell_type": "code",
   "execution_count": null,
   "id": "761b26f4-4dab-47b0-99cc-0c7019fdca0d",
   "metadata": {},
   "outputs": [],
   "source": [
    "p = Person(\"Max\", 12)\n",
    "assert (p.age() == 12)\n",
    "assert(p.age(2031) == 19 )\n",
    "assert(p.age(1964) is None)"
   ]
  },
  {
   "cell_type": "code",
   "execution_count": null,
   "id": "b3ba408a-de06-4b63-b0e8-eb3426ada79f",
   "metadata": {},
   "outputs": [],
   "source": [
    "p.age()"
   ]
  },
  {
   "cell_type": "code",
   "execution_count": null,
   "id": "a4161e3a",
   "metadata": {},
   "outputs": [],
   "source": [
    "for _ in range(10):\n",
    "    print(\" \" * _ + \"FINISHED\")\n",
    "# you are done!"
   ]
  },
  {
   "cell_type": "code",
   "execution_count": null,
   "id": "69906469-4306-4018-90ca-6c3840d47ce3",
   "metadata": {},
   "outputs": [],
   "source": []
  },
  {
   "cell_type": "code",
   "execution_count": null,
   "id": "80502ff7-1d01-4a73-8914-7366a6250880",
   "metadata": {},
   "outputs": [],
   "source": []
  }
 ],
 "metadata": {
  "kernelspec": {
   "display_name": "Python 3",
   "language": "python",
   "name": "python3"
  },
  "language_info": {
   "codemirror_mode": {
    "name": "ipython",
    "version": 3
   },
   "file_extension": ".py",
   "mimetype": "text/x-python",
   "name": "python",
   "nbconvert_exporter": "python",
   "pygments_lexer": "ipython3",
   "version": "3.11.8"
  }
 },
 "nbformat": 4,
 "nbformat_minor": 5
}
