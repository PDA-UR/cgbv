{
 "cells": [
  {
   "cell_type": "code",
   "execution_count": null,
   "id": "983923e6-0f36-433b-bdd5-5d562d537e70",
   "metadata": {},
   "outputs": [],
   "source": [
    "from IPython.display import display, DisplayHandle\n",
    "from ipywidgets import interact, interactive, fixed, interact_manual\n",
    "\n",
    "from PIL import Image\n",
    "from PIL import ImageDraw\n",
    "from PIL import ImageColor\n",
    "\n",
    "import numpy as np\n",
    "from numpy import matrix as M\n",
    "from math import sin, cos, pi\n",
    "import time"
   ]
  },
  {
   "cell_type": "code",
   "execution_count": null,
   "id": "7602ae88-dba4-43f1-ba70-6673dd845b93",
   "metadata": {},
   "outputs": [],
   "source": [
    "# constants\n",
    "WIDTH, HEIGHT = 300, 300"
   ]
  },
  {
   "cell_type": "code",
   "execution_count": null,
   "id": "301fae0e-bb66-4965-91dd-fe3bdeb117ee",
   "metadata": {},
   "outputs": [],
   "source": [
    "i = Image.new(\"RGB\", (WIDTH, HEIGHT))\n",
    "draw = ImageDraw.Draw(i)"
   ]
  },
  {
   "cell_type": "code",
   "execution_count": null,
   "id": "853dac63-17de-4866-ba4e-dc24003d5242",
   "metadata": {},
   "outputs": [],
   "source": [
    "draw.polygon([(150,150), (200,200), (200,150)], fill=(255,255,0))\n",
    "display(i)"
   ]
  },
  {
   "cell_type": "markdown",
   "id": "2275a831-9415-4491-abe1-41eae22848a9",
   "metadata": {},
   "source": [
    "## 3D Experiment 1: Moving the Triangle"
   ]
  },
  {
   "cell_type": "code",
   "execution_count": null,
   "id": "6ecb7614-1e83-4ef0-b4a9-438b37546849",
   "metadata": {},
   "outputs": [],
   "source": [
    "# copied and adapted from Rotating Clock notebook\n",
    "def translate(tx, ty, tz, p=None):\n",
    "    T = M([[1, 0, 0, tx],\n",
    "           [0, 1, 0, ty],\n",
    "           [0, 0, 1, tz],\n",
    "           [0, 0, 0,  1]])\n",
    "    if p is None:\n",
    "        return T\n",
    "    else:\n",
    "        p = list(p)\n",
    "        p.append(1)\n",
    "        p = T @ p\n",
    "        x = p.tolist()[0][0]\n",
    "        y = p.tolist()[0][1]\n",
    "        z = p.tolist()[0][2]\n",
    "        return((x,y,z))"
   ]
  },
  {
   "cell_type": "code",
   "execution_count": null,
   "id": "a5b371c1-db12-451b-9833-1a3f77d64ac4",
   "metadata": {},
   "outputs": [],
   "source": [
    "def rotate(axis, angle, p=None):\n",
    "    angle = (angle / 180) * pi\n",
    "    if axis == 'x':\n",
    "        T = M([[1, 0, 0, 0],\n",
    "           [0, cos(angle), -sin(angle), 0],\n",
    "           [0, sin(angle), cos(angle), 0],\n",
    "           [0, 0, 0,  1]])\n",
    "    if axis == 'y':\n",
    "        assert False\n",
    "    if axis == 'z':\n",
    "        assert False\n",
    "    if p is None:\n",
    "        return T\n",
    "    else:\n",
    "        p = list(p)\n",
    "        p.append(1)\n",
    "        p = T @ p\n",
    "        x = p.tolist()[0][0]\n",
    "        y = p.tolist()[0][1]\n",
    "        z = p.tolist()[0][2]\n",
    "        return((x,y,z))"
   ]
  },
  {
   "cell_type": "code",
   "execution_count": null,
   "id": "db7e8e11-5de7-4932-a45b-6ce6c9fd6dce",
   "metadata": {},
   "outputs": [],
   "source": [
    "def project_ortho(p=None):\n",
    "    T = M([[1, 0, 0,  0],\n",
    "           [0, 1, 0,  0],\n",
    "           [0, 0, 0,  0],\n",
    "           [0, 0, 0,  1]])\n",
    "    if p is None:\n",
    "        return T\n",
    "    else:\n",
    "        p = list(p)\n",
    "        p.append(1)\n",
    "        p = T @ p\n",
    "        x = p.tolist()[0][0]\n",
    "        y = p.tolist()[0][1]\n",
    "        #z = p.tolist()[0][2]\n",
    "        return((x,y))"
   ]
  },
  {
   "cell_type": "code",
   "execution_count": null,
   "id": "8ba38221-9261-41ec-bee6-2cfdae610631",
   "metadata": {},
   "outputs": [],
   "source": [
    "def project_perspective(d=1, p=None):\n",
    "    T = M([[1, 0, 0,  0],\n",
    "           [0, 1, 0,  0],\n",
    "           [0, 0, 1,  0],\n",
    "           [0, 0, -1/d,  0]])\n",
    "    if p is None:\n",
    "        return T\n",
    "    else:\n",
    "        p = list(p)\n",
    "        p.append(1)\n",
    "        p = T @ p\n",
    "        #print(p)\n",
    "        w = p.tolist()[0][3]\n",
    "        x = p.tolist()[0][0] / (w+0.0001) # FIXME!!! (just here to avoid division by 0)\n",
    "        y = p.tolist()[0][1] / (w+0.0001) # FIXMEEEEE !!!!!\n",
    "        #z = p.tolist()[0][2]\n",
    "        return((x,y))"
   ]
  },
  {
   "cell_type": "code",
   "execution_count": null,
   "id": "45174d77-139e-43ee-82fb-45eb69ff32ce",
   "metadata": {},
   "outputs": [],
   "source": [
    "vertices = [(-50,-50, -50), (-50,50, -50), (50,50, -50), (50,-50, -50),\n",
    "            (-50,-50,  50), (-50,50,  50), (50,50,  50), (50,-50,  50)]\n",
    "\n",
    "faces = [(4,5,6,7), (7,6,2,3), (3,2,1,0), (0,1,5,4), (0,4,7,3), (5,1,2,6)]\n",
    "colors = [(255,255,0),(255,0,0),(0,255,0),(0,255,255),(0,0,255),(255,0,255)]"
   ]
  },
  {
   "cell_type": "code",
   "execution_count": null,
   "id": "bc5ea5b8-cb8c-42c4-9ade-e3a3ebe91662",
   "metadata": {},
   "outputs": [],
   "source": [
    "def render(xpos: int, ypos: int, zpos: int, xrot: int = 0):\n",
    "        draw.rectangle([(0,0), (300,300)], fill=0)\n",
    "        for it, face in enumerate(faces):\n",
    "            points = []\n",
    "            for vertex_id in face:\n",
    "                points.append(vertices[vertex_id])\n",
    "            new_points = []\n",
    "            for point in points:\n",
    "                # transform in 3D             \n",
    "                point = list(point)\n",
    "                point.append(1)\n",
    "                R1 = rotate('x', xrot)\n",
    "                T1 = translate(0, 0, -100) \n",
    "                T2 = translate(xpos, ypos, zpos)\n",
    "                p = T2 @ T1 @ R1 @ point\n",
    "                x = p.tolist()[0][0]\n",
    "                y = p.tolist()[0][1]\n",
    "                z = p.tolist()[0][2]\n",
    "                p = (x,y,z)\n",
    "                # project to 2D\n",
    "                p = project_perspective(100, p)\n",
    "                #p = project_ortho(p)\n",
    "                p = (p[0] + WIDTH//2, p[1] + HEIGHT//2) # move the origin to the center of the canvas\n",
    "                new_points.append(p)\n",
    "            # drawing filled polygons will look strange if you don't sort by depth first → Painter's Algorithm\n",
    "            #draw.polygon(new_points, fill=colors[it], width=3)\n",
    "            draw.polygon(new_points, outline=colors[it], width=3)\n",
    "        d.update(i)\n",
    "        #d.display(i) # works in PyCharm"
   ]
  },
  {
   "cell_type": "code",
   "execution_count": null,
   "id": "991e30c6-414d-457c-8417-f71b2f5b27aa",
   "metadata": {},
   "outputs": [],
   "source": [
    "d = DisplayHandle()\n",
    "d.display(i)"
   ]
  },
  {
   "cell_type": "code",
   "execution_count": null,
   "id": "d471a5ee-cebf-459e-a6f1-34c938135cce",
   "metadata": {
    "scrolled": true
   },
   "outputs": [],
   "source": [
    "_ = interact(render, xpos=(-100,100), ypos=(-100,100), zpos=(-20,20.0), xrot=(-180,180))"
   ]
  },
  {
   "cell_type": "code",
   "execution_count": null,
   "id": "6f6ec72d-daa4-4764-89d3-a4cbe9b2949e",
   "metadata": {},
   "outputs": [],
   "source": [
    "# animate!\n",
    "def animate():\n",
    "    xrot = 0\n",
    "    while True:\n",
    "        xrot +=1\n",
    "        render(0,0,0, xrot)\n",
    "        time.sleep(0.05)\n",
    "\n",
    "animate()"
   ]
  },
  {
   "cell_type": "markdown",
   "id": "33044a07-fd00-48b7-a85a-b9e26958ed1b",
   "metadata": {},
   "source": [
    "## Next steps\n",
    "- add scale functions\n",
    "- implement backface culling by calculating the normal of each polygon and determining whether it faces towards the viewport or away from it. \n",
    "- implement the painters algorithm: determine the center of each polygon and then sort the polygon's by Z value before drawing them\n",
    "- add a camera and apply it's perspective by multiplying the inverse of the camera transform matrix onto each vertex"
   ]
  },
  {
   "cell_type": "code",
   "execution_count": null,
   "id": "e4347473-3861-40ec-a56a-e107d693888a",
   "metadata": {},
   "outputs": [],
   "source": []
  }
 ],
 "metadata": {
  "kernelspec": {
   "display_name": "Python 3 (ipykernel)",
   "language": "python",
   "name": "python3"
  },
  "language_info": {
   "codemirror_mode": {
    "name": "ipython",
    "version": 3
   },
   "file_extension": ".py",
   "mimetype": "text/x-python",
   "name": "python",
   "nbconvert_exporter": "python",
   "pygments_lexer": "ipython3",
   "version": "3.11.9"
  }
 },
 "nbformat": 4,
 "nbformat_minor": 5
}
