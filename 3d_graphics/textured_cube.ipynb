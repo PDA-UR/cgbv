{
 "cells": [
  {
   "cell_type": "code",
   "execution_count": 1,
   "id": "4d607482-27ce-4a2e-b10c-5241dc5d3aa2",
   "metadata": {},
   "outputs": [],
   "source": [
    "import sys\n",
    "import time\n",
    "from PIL import Image\n",
    "try:\n",
    "  from OpenGL.GLUT import *\n",
    "  from OpenGL.GL import *\n",
    "  from OpenGL.GLU import *\n",
    "except:\n",
    "  print('''\n",
    "ERROR: PyOpenGL not installed properly.\n",
    "        ''')"
   ]
  },
  {
   "cell_type": "code",
   "execution_count": 2,
   "id": "a83c7b9f-598b-41b5-9b0f-4ef76c172a02",
   "metadata": {},
   "outputs": [],
   "source": [
    "tex_id = 1 # global variable for simplicity"
   ]
  },
  {
   "cell_type": "code",
   "execution_count": 3,
   "id": "bf720b06-4fc1-49ac-9d4b-89a2488f11a1",
   "metadata": {},
   "outputs": [],
   "source": [
    "def load_texture(filename):\n",
    "    im = Image.open(filename)\n",
    "    ix, iy, image = im.size[0], im.size[1], im.convert(\"RGBA\").tobytes()\n",
    "    ID = glGenTextures(1)\n",
    "    glBindTexture(GL_TEXTURE_2D, ID)\n",
    "    glPixelStorei(GL_UNPACK_ALIGNMENT,1)\n",
    "    glTexImage2D(GL_TEXTURE_2D, 0, GL_RGBA8, ix, iy, 0, GL_RGBA, GL_UNSIGNED_BYTE, image)\n",
    "    return ID"
   ]
  },
  {
   "cell_type": "code",
   "execution_count": 4,
   "id": "46f52156-2e15-4baf-96bd-53b0216c92c0",
   "metadata": {},
   "outputs": [],
   "source": [
    "def init():\n",
    "   global tex_id\n",
    "   glClearColor(0.0, 0.0, 0.0, 0.0)\n",
    "   glEnable(GL_TEXTURE_2D)\n",
    "   glEnable(GL_DEPTH_TEST)\n",
    "   glEnable(GL_CULL_FACE)\n",
    "   glTexParameterf(GL_TEXTURE_2D, GL_TEXTURE_MAG_FILTER, GL_NEAREST)\n",
    "   glTexParameterf(GL_TEXTURE_2D, GL_TEXTURE_MIN_FILTER, GL_NEAREST)\n",
    "   glTexEnvf(GL_TEXTURE_ENV, GL_TEXTURE_ENV_MODE, GL_DECAL) \n",
    "   tex_id = load_texture(\"crate.jpg\")\n",
    "   print(tex_id)\n",
    "   reshape(500,500)"
   ]
  },
  {
   "cell_type": "code",
   "execution_count": 5,
   "id": "3decabae-c127-420f-a6b3-810f4fc6decb",
   "metadata": {},
   "outputs": [],
   "source": [
    "def display():\n",
    "    global tex_id\n",
    "    glClear(GL_COLOR_BUFFER_BIT)\n",
    "    glColor3f(0.0, 1.0, 1.0)\n",
    "    glLoadIdentity()          # clear the matrix\n",
    "    # viewing transformation\n",
    "    # note: for correct shading, the normal vectors need to be set for each polygon or vertex\n",
    "    gluLookAt(0.0, 0.0, 5.0, 0.0, 0.0, 0.0, 0.0, 1.0, 0.0)\n",
    "    # glScalef(1.0, 2.0, 1.0)      # modeling transformation\n",
    "    ms = time.time() % 2 # between 0 and 2\n",
    "    glRotatef(360 * ms / 2, 1, 1, 0)\n",
    "    draw_textured_cube(tex_id, shaded=True)\n",
    "    glFlush()\n",
    "    glutPostRedisplay()"
   ]
  },
  {
   "cell_type": "code",
   "execution_count": 6,
   "id": "a6fcae4d-e2b4-46c6-94f1-e873e63ddd80",
   "metadata": {},
   "outputs": [],
   "source": [
    "def draw_textured_cube(tex_id, shaded=True):\n",
    "    \"\"\"Draw a cube with texture coordinates\"\"\"\n",
    "    glTexParameterf(GL_TEXTURE_2D, GL_TEXTURE_MAG_FILTER, GL_NEAREST)\n",
    "    glTexParameterf(GL_TEXTURE_2D, GL_TEXTURE_MIN_FILTER, GL_NEAREST)\n",
    "    glBindTexture(GL_TEXTURE_2D, tex_id)\n",
    "    # glMaterialfv(GL_FRONT, GL_AMBIENT_AND_DIFFUSE, (1.0, 1.0, 1.0, 1.0))\n",
    "\n",
    "    glBegin(GL_QUADS)\n",
    "    \n",
    "    if shaded: \n",
    "        glNormal3f(0.0, 0.0, 1.0)\n",
    "    glTexCoord2f(0.0, 0.0); glVertex3f(-1.0, -1.0,  1.0);\n",
    "    glTexCoord2f(1.0, 0.0); glVertex3f( 1.0, -1.0,  1.0);\n",
    "    glTexCoord2f(1.0, 1.0); glVertex3f( 1.0,  1.0,  1.0);\n",
    "    glTexCoord2f(0.0, 1.0); glVertex3f(-1.0,  1.0,  1.0);\n",
    "    \n",
    "    if shaded: \n",
    "        glNormal3f(0.0, 0.0, -1.0)\n",
    "    glTexCoord2f(1.0, 0.0); glVertex3f(-1.0, -1.0, -1.0);\n",
    "    glTexCoord2f(1.0, 1.0); glVertex3f(-1.0,  1.0, -1.0);\n",
    "    glTexCoord2f(0.0, 1.0); glVertex3f( 1.0,  1.0, -1.0);\n",
    "    glTexCoord2f(0.0, 0.0); glVertex3f( 1.0, -1.0, -1.0);\n",
    "    \n",
    "    if shaded: \n",
    "        glNormal3f(0.0, 1.0, 0.0)\n",
    "    glTexCoord2f(0.0, 1.0); glVertex3f(-1.0,  1.0, -1.0);\n",
    "    glTexCoord2f(0.0, 0.0); glVertex3f(-1.0,  1.0,  1.0);\n",
    "    glTexCoord2f(1.0, 0.0); glVertex3f( 1.0,  1.0,  1.0);\n",
    "    glTexCoord2f(1.0, 1.0); glVertex3f( 1.0,  1.0, -1.0);\n",
    "    \n",
    "    if shaded: \n",
    "        glNormal3f(0.0, -1.0, 0.0)\n",
    "    glTexCoord2f(1.0, 1.0); glVertex3f(-1.0, -1.0, -1.0);\n",
    "    glTexCoord2f(0.0, 1.0); glVertex3f( 1.0, -1.0, -1.0);\n",
    "    glTexCoord2f(0.0, 0.0); glVertex3f( 1.0, -1.0,  1.0);\n",
    "    glTexCoord2f(1.0, 0.0); glVertex3f(-1.0, -1.0,  1.0);\n",
    "    \n",
    "    if shaded: \n",
    "        glNormal3f(1.0, 0.0, 0.0)\n",
    "    glTexCoord2f(1.0, 0.0); glVertex3f( 1.0, -1.0, -1.0);\n",
    "    glTexCoord2f(1.0, 1.0); glVertex3f( 1.0,  1.0, -1.0);\n",
    "    glTexCoord2f(0.0, 1.0); glVertex3f( 1.0,  1.0,  1.0);\n",
    "    glTexCoord2f(0.0, 0.0); glVertex3f( 1.0, -1.0,  1.0);\n",
    "    \n",
    "    if shaded: \n",
    "        glNormal3f(-1.0, 0.0, 0.0)\n",
    "    glTexCoord2f(0.0, 0.0); glVertex3f(-1.0, -1.0, -1.0);\n",
    "    glTexCoord2f(1.0, 0.0); glVertex3f(-1.0, -1.0,  1.0);\n",
    "    glTexCoord2f(1.0, 1.0); glVertex3f(-1.0,  1.0,  1.0);\n",
    "    glTexCoord2f(0.0, 1.0); glVertex3f(-1.0,  1.0, -1.0);\n",
    "    glEnd()"
   ]
  },
  {
   "cell_type": "code",
   "execution_count": 7,
   "id": "0dd13cac-0c00-43ef-b595-ea302c038a5d",
   "metadata": {},
   "outputs": [],
   "source": [
    "def reshape(w, h):\n",
    "   glViewport(0, 0, w, h)\n",
    "   glMatrixMode(GL_PROJECTION)\n",
    "   glLoadIdentity()\n",
    "   glFrustum(-1.0, 1.0, -1.0, 1.0, 1.5, 20.0)\n",
    "   glMatrixMode(GL_MODELVIEW)"
   ]
  },
  {
   "cell_type": "code",
   "execution_count": 8,
   "id": "b9533d61-bf0c-40a1-90ba-d19e32b9df66",
   "metadata": {},
   "outputs": [],
   "source": [
    "LIGHTING = True\n",
    "\n",
    "def keyboard(key, x, y):\n",
    "    if key == chr(27): # escape\n",
    "      pass\n",
    "      #import sys\n",
    "      #sys.exit(0)"
   ]
  },
  {
   "cell_type": "code",
   "execution_count": 9,
   "id": "b93d6188-9064-4d72-9d00-929dd2c891f4",
   "metadata": {},
   "outputs": [
    {
     "name": "stdout",
     "output_type": "stream",
     "text": [
      "1\n"
     ]
    }
   ],
   "source": [
    "glutInit(sys.argv)\n",
    "glutInitDisplayMode(GLUT_SINGLE | GLUT_RGB)\n",
    "glutInitWindowSize(500, 500)\n",
    "glutInitWindowPosition(100, 100)\n",
    "glutCreateWindow('cube')\n",
    "init()"
   ]
  },
  {
   "cell_type": "code",
   "execution_count": 10,
   "id": "49277e45-435d-490d-8b7d-73baccd355f9",
   "metadata": {},
   "outputs": [],
   "source": [
    "reshape(500,500)\n",
    "display()"
   ]
  },
  {
   "cell_type": "code",
   "execution_count": null,
   "id": "5b51a0e8-ec2b-42f8-826c-a2d57a6e966b",
   "metadata": {},
   "outputs": [],
   "source": [
    "# hand over control to the glut main loop - restart kernel to stop it\n",
    "glutDisplayFunc(display)\n",
    "glutReshapeFunc(reshape)\n",
    "glutKeyboardFunc(keyboard)\n",
    "glutMainLoop()"
   ]
  },
  {
   "cell_type": "code",
   "execution_count": null,
   "id": "1cd2e369-1656-4b76-a6c1-b25abccab8ef",
   "metadata": {},
   "outputs": [],
   "source": [
    "glutDestroyWindow(1) # does not seem to work reliably"
   ]
  }
 ],
 "metadata": {
  "kernelspec": {
   "display_name": "Python 3",
   "language": "python",
   "name": "python3"
  },
  "language_info": {
   "codemirror_mode": {
    "name": "ipython",
    "version": 3
   },
   "file_extension": ".py",
   "mimetype": "text/x-python",
   "name": "python",
   "nbconvert_exporter": "python",
   "pygments_lexer": "ipython3",
   "version": "3.10.5"
  }
 },
 "nbformat": 4,
 "nbformat_minor": 5
}
