{
 "cells": [
  {
   "cell_type": "code",
   "execution_count": null,
   "id": "983923e6-0f36-433b-bdd5-5d562d537e70",
   "metadata": {},
   "outputs": [],
   "source": [
    "from IPython.display import display, DisplayHandle\n",
    "from ipywidgets import interact, interactive, fixed, interact_manual\n",
    "\n",
    "from PIL import Image\n",
    "from PIL import ImageDraw"
   ]
  },
  {
   "cell_type": "code",
   "execution_count": null,
   "id": "301fae0e-bb66-4965-91dd-fe3bdeb117ee",
   "metadata": {},
   "outputs": [],
   "source": [
    "i = Image.new(\"L\", (300,300))\n",
    "draw = ImageDraw.Draw(i)"
   ]
  },
  {
   "cell_type": "code",
   "execution_count": null,
   "id": "853dac63-17de-4866-ba4e-dc24003d5242",
   "metadata": {},
   "outputs": [],
   "source": [
    "draw.polygon([(150,150), (200,200), (200,150)], fill=255)\n",
    "d = DisplayHandle()\n",
    "d.display(i)"
   ]
  },
  {
   "cell_type": "markdown",
   "id": "2275a831-9415-4491-abe1-41eae22848a9",
   "metadata": {},
   "source": [
    "## 3D Experiment 1: Rotating Triangle"
   ]
  },
  {
   "cell_type": "code",
   "execution_count": null,
   "id": "cc946181-063f-40e1-8b24-419531c2786d",
   "metadata": {},
   "outputs": [],
   "source": [
    "d.display(i)"
   ]
  },
  {
   "cell_type": "code",
   "execution_count": null,
   "id": "bc5ea5b8-cb8c-42c4-9ade-e3a3ebe91662",
   "metadata": {},
   "outputs": [],
   "source": [
    "def render(xpos: int):\n",
    "        draw.polygon([(150+xpos,150), (200+xpos,200), (200+xpos,150)], fill=255)\n",
    "        d.update(i)"
   ]
  },
  {
   "cell_type": "code",
   "execution_count": null,
   "id": "d471a5ee-cebf-459e-a6f1-34c938135cce",
   "metadata": {},
   "outputs": [],
   "source": [
    "interact(render, xpos=(-100,100))"
   ]
  },
  {
   "cell_type": "code",
   "execution_count": null,
   "id": "2791ef1e-bc9c-4a3c-93c1-767d9e3905c1",
   "metadata": {},
   "outputs": [],
   "source": []
  }
 ],
 "metadata": {
  "kernelspec": {
   "display_name": "Python 3",
   "language": "python",
   "name": "python3"
  },
  "language_info": {
   "codemirror_mode": {
    "name": "ipython",
    "version": 3
   },
   "file_extension": ".py",
   "mimetype": "text/x-python",
   "name": "python",
   "nbconvert_exporter": "python",
   "pygments_lexer": "ipython3",
   "version": "3.10.5"
  }
 },
 "nbformat": 4,
 "nbformat_minor": 5
}
