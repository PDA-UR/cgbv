{
 "cells": [
  {
   "cell_type": "markdown",
   "id": "046030c0-3597-4a15-a5de-13ee86cd9c1f",
   "metadata": {},
   "source": [
    "# OpenGL Basics: Immediate Mode\n",
    "\n",
    "This notebook demonstrates a few OpenGL basics. It uses the OpenGL *Immediate Mode* / *Fixed-Function Pipeline* which has been deprecated for some time. However, avoiding shaders for now allows us to focus on the general structure. \n",
    "\n",
    "Personal opinion: *Immediate Mode* is more readable and still of value for quick experiments.\n",
    "\n",
    "**Important:** as PyOpenGL talks to your local graphics card in order to display stuff, you cannot run this code in a cloud environment, such as Google Colab. Run it locally on your computer."
   ]
  },
  {
   "cell_type": "markdown",
   "id": "fa66468c-019c-436e-a3c6-2c08a6adaf92",
   "metadata": {},
   "source": [
    "## PyOpenGL installation tips\n",
    "\n",
    "Do not install the PyOpenGL packages from PyPI as they are missing certain GLUT bindings used in this example.\n",
    "Instead either use the native package manager on Linux or download the correct PyOpenGL and PyOpenGL_accelerate wheel files from https://www.lfd.uci.edu/~gohlke/pythonlibs/#pyopengl\n",
    "\n",
    "There are separate versions for 32/64 bit and for the different Cpython interpreter versions.\n",
    "\n",
    "First, find out which Python interpreter is used in your Jupyter environment by running the following cell:"
   ]
  },
  {
   "cell_type": "code",
   "execution_count": 2,
   "id": "d1c96960-19d0-4262-b152-d52f433b0880",
   "metadata": {},
   "outputs": [
    {
     "data": {
      "text/plain": [
       "'3.10.5 (main, Jun  8 2022, 09:26:22) [GCC 11.3.0]'"
      ]
     },
     "execution_count": 2,
     "metadata": {},
     "output_type": "execute_result"
    }
   ],
   "source": [
    "import sys\n",
    "sys.version"
   ]
  },
  {
   "cell_type": "markdown",
   "id": "fb2f7526-1d45-442d-95fb-f6cafc35dd73",
   "metadata": {},
   "source": [
    "Now, download the two wheel files that correspond to your Python version (if in doubt, you want the Cpython version, not the PyPy version).\n",
    "E.g., if your Python version is '3.10.5 (main, Jun  8 2022, 09:26:22) [GCC 11.3.0]', you want to get the files 'PyOpenGL‑3.1.6‑**cp310**‑cp310‑win_amd64.whl' and 'PyOpenGL_accelerate‑3.1.6‑**cp310**‑cp310‑win_amd64.whl'\n",
    "\n",
    "Now run `pip install` from within your Jupyter environment to make sure that your are installing these packages into the correct Python environment. \n",
    "You can do this either in a terminal or via the following cell. Adjust filenames and paths appropriately.\n",
    "\n",
    "*Hint:* do not rename the files - otherwise pip won't accept them."
   ]
  },
  {
   "cell_type": "code",
   "execution_count": 3,
   "id": "07569a28-b765-495e-be4b-f6fbd9f201c6",
   "metadata": {},
   "outputs": [
    {
     "name": "stdout",
     "output_type": "stream",
     "text": [
      "Defaulting to user installation because normal site-packages is not writeable\n",
      "\u001b[33mWARNING: Requirement 'PyOpenGL_accelerate‑3.1.6‑cp310‑cp310‑win_amd64.whl' looks like a filename, but the file does not exist\u001b[0m\u001b[33m\n",
      "\u001b[0m\u001b[31mERROR: PyOpenGL_accelerate‑3.1.6‑cp310‑cp310‑win_amd64.whl is not a valid wheel filename.\u001b[0m\u001b[31m\n",
      "\u001b[0m"
     ]
    }
   ],
   "source": [
    "! pip install PyOpenGL‑3.1.6‑cp310‑cp310‑win_amd64.whl"
   ]
  },
  {
   "cell_type": "code",
   "execution_count": 4,
   "id": "1e11c557-e6ce-4a5b-8bfa-fef2f09009de",
   "metadata": {},
   "outputs": [
    {
     "name": "stdout",
     "output_type": "stream",
     "text": [
      "Defaulting to user installation because normal site-packages is not writeable\n",
      "\u001b[33mWARNING: Requirement 'PyOpenGL_accelerate‑3.1.6‑cp310‑cp310‑win_amd64.whl' looks like a filename, but the file does not exist\u001b[0m\u001b[33m\n",
      "\u001b[0m\u001b[31mERROR: PyOpenGL_accelerate‑3.1.6‑cp310‑cp310‑win_amd64.whl is not a valid wheel filename.\u001b[0m\u001b[31m\n",
      "\u001b[0m"
     ]
    }
   ],
   "source": [
    "! pip install PyOpenGL_accelerate‑3.1.6‑cp310‑cp310‑win_amd64.whl"
   ]
  },
  {
   "cell_type": "markdown",
   "id": "ee7e7854-4588-4b36-bc1e-4fafdfc0d39b",
   "metadata": {},
   "source": [
    "# Now let's start!"
   ]
  },
  {
   "cell_type": "code",
   "execution_count": 1,
   "id": "4d607482-27ce-4a2e-b10c-5241dc5d3aa2",
   "metadata": {},
   "outputs": [],
   "source": [
    "import sys\n",
    "import time\n",
    "from PIL import Image\n",
    "try:\n",
    "  from OpenGL.GLUT import *\n",
    "  from OpenGL.GL import *\n",
    "  from OpenGL.GLU import *\n",
    "except:\n",
    "  print('''\n",
    "ERROR: PyOpenGL not installed properly.\n",
    "        ''')"
   ]
  },
  {
   "cell_type": "code",
   "execution_count": 2,
   "id": "46f52156-2e15-4baf-96bd-53b0216c92c0",
   "metadata": {},
   "outputs": [],
   "source": [
    "def init():\n",
    "   glClearColor(1.0, 0.0, 0.0, 0.0)  # set background color\n",
    "   glShadeModel(GL_FLAT)  # check out alternative shading modes\n",
    "   glDisable(GL_LIGHTING)\n",
    "   glEnable(GL_DEPTH_TEST)\n",
    "   glEnable(GL_CULL_FACE);  \n",
    "   reshape(500,500)"
   ]
  },
  {
   "cell_type": "code",
   "execution_count": 10,
   "id": "3decabae-c127-420f-a6b3-810f4fc6decb",
   "metadata": {},
   "outputs": [],
   "source": [
    "def display():\n",
    "    glClear(GL_COLOR_BUFFER_BIT)\n",
    "    glColor3f(0.0, 0.0, 1.0)\n",
    "    glLoadIdentity()  # clear the matrix stack\n",
    "    # viewing transformation\n",
    "    gluLookAt(0.0, 0.0, 5.0,  # camera position\n",
    "              0.0, 0.0, 0.0,  # where should camera look at\n",
    "              0.0, 1.0, 0.0)  # 'up' vector that determines rotation\n",
    "    # glScalef(1.0, 2.0, 1.0)  # scale all subsequent drawing operations \n",
    "    ms = time.time() % 2 # between 0 and 2\n",
    "    glRotatef(360 * ms / 2, 1, 1, 0)  # rotate cube around axis (1,1,0) once per second\n",
    "    glutWireCube(1.0)  # convenience function to draw a wire cube\n",
    "    #draw_quad()  # example of immediate mode drawing, see below\n",
    "    glFlush()  # flush all operations to GPU\n",
    "    glutPostRedisplay()  # refresh screen"
   ]
  },
  {
   "cell_type": "code",
   "execution_count": 4,
   "id": "0a538f17-a03e-4822-816c-01733387cc8c",
   "metadata": {},
   "outputs": [],
   "source": [
    "# an example for drawing two four-sided polygons in a row.\n",
    "def draw_quad():\n",
    "    glBegin(GL_QUADS) \n",
    "    glVertex3f(-0.5, -0.5, 0.0)\n",
    "    glVertex3f(0.5, 1.0, 0.0)\n",
    "    glVertex3f(0.0, 1.0, 1.0)\n",
    "    glVertex3f(0.0, 0.0, 1.0)\n",
    "    glVertex3f(1.0, 1.0, 2.0)\n",
    "    glVertex3f(2.0, 1.0, 2.0)\n",
    "    glVertex3f(2.0, 2.0, 2.0)\n",
    "    glVertex3f(1.0, 2.0, 2.0)\n",
    "    glEnd()"
   ]
  },
  {
   "cell_type": "code",
   "execution_count": 5,
   "id": "0dd13cac-0c00-43ef-b595-ea302c038a5d",
   "metadata": {},
   "outputs": [],
   "source": [
    "# on every change of window size, we recalculate the projection matrix and adjust the viewport\n",
    "def reshape(w, h):\n",
    "   glViewport(0, 0, w, h)\n",
    "   glMatrixMode(GL_PROJECTION)\n",
    "   glLoadIdentity()\n",
    "   glFrustum(-1.0, 1.0, -1.0, 1.0, 1.5, 20.0)\n",
    "   glMatrixMode(GL_MODELVIEW)"
   ]
  },
  {
   "cell_type": "code",
   "execution_count": 6,
   "id": "b9533d61-bf0c-40a1-90ba-d19e32b9df66",
   "metadata": {},
   "outputs": [],
   "source": [
    "def keyboard(key, x, y):\n",
    "   if key == chr(27): # escape\n",
    "      pass\n",
    "      #import sys\n",
    "      #sys.exit(0)"
   ]
  },
  {
   "cell_type": "code",
   "execution_count": 8,
   "id": "b93d6188-9064-4d72-9d00-929dd2c891f4",
   "metadata": {},
   "outputs": [],
   "source": [
    "glutInit(sys.argv)\n",
    "glutInitDisplayMode(GLUT_SINGLE | GLUT_RGB)\n",
    "glutInitWindowSize(500, 500)\n",
    "glutInitWindowPosition(100, 100)\n",
    "glutCreateWindow('cube')\n",
    "init()\n",
    "\n",
    "# a window should have popped up now"
   ]
  },
  {
   "cell_type": "code",
   "execution_count": 11,
   "id": "49277e45-435d-490d-8b7d-73baccd355f9",
   "metadata": {},
   "outputs": [],
   "source": [
    "reshape(500,500)\n",
    "display()"
   ]
  },
  {
   "cell_type": "code",
   "execution_count": null,
   "id": "5b51a0e8-ec2b-42f8-826c-a2d57a6e966b",
   "metadata": {},
   "outputs": [],
   "source": [
    "# hand over control to the glut main loop - restart kernel to stop it\n",
    "glutDisplayFunc(display)\n",
    "glutReshapeFunc(reshape)\n",
    "glutKeyboardFunc(keyboard)\n",
    "glutMainLoop()"
   ]
  },
  {
   "cell_type": "code",
   "execution_count": null,
   "id": "1cd2e369-1656-4b76-a6c1-b25abccab8ef",
   "metadata": {},
   "outputs": [],
   "source": [
    "glutDestroyWindow(1) # does not seem to work reliably\n"
   ]
  },
  {
   "cell_type": "markdown",
   "id": "d48cacf6-b069-47d4-b49e-6708df3118f6",
   "metadata": {},
   "source": [
    "# Tasks\n",
    "- render GL_QUADS, GL_QUAD_STRIP, and the other primitives defined here: https://pyopengl.sourceforge.net/documentation/manual-3.0/glBegin.html \n",
    "- draw a textured cube, check out this tutorial: https://pyopengl.sourceforge.net/context/tutorials/nehe6.html but beware that the way of loading an image into RAM has changed.\n",
    "- try out glPushMatrix() and glPopMatrix() to save/restore state"
   ]
  },
  {
   "cell_type": "code",
   "execution_count": null,
   "id": "3a5c56cd-23e1-47bc-92ac-5d02d20a2b68",
   "metadata": {},
   "outputs": [],
   "source": []
  }
 ],
 "metadata": {
  "kernelspec": {
   "display_name": "Python 3",
   "language": "python",
   "name": "python3"
  },
  "language_info": {
   "codemirror_mode": {
    "name": "ipython",
    "version": 3
   },
   "file_extension": ".py",
   "mimetype": "text/x-python",
   "name": "python",
   "nbconvert_exporter": "python",
   "pygments_lexer": "ipython3",
   "version": "3.10.5"
  }
 },
 "nbformat": 4,
 "nbformat_minor": 5
}
