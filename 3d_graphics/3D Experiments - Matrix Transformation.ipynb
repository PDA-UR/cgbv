{
 "cells": [
  {
   "cell_type": "code",
   "execution_count": 1,
   "id": "983923e6-0f36-433b-bdd5-5d562d537e70",
   "metadata": {},
   "outputs": [],
   "source": [
    "from IPython.display import display, DisplayHandle\n",
    "from ipywidgets import interact, interactive, fixed, interact_manual\n",
    "\n",
    "from PIL import Image\n",
    "from PIL import ImageDraw\n",
    "from PIL import ImageColor\n",
    "\n",
    "import numpy as np\n",
    "from numpy import matrix as M\n",
    "from math import sin, cos, pi"
   ]
  },
  {
   "cell_type": "code",
   "execution_count": 2,
   "id": "7602ae88-dba4-43f1-ba70-6673dd845b93",
   "metadata": {},
   "outputs": [],
   "source": [
    "# constants\n",
    "WIDTH, HEIGHT = 300, 300"
   ]
  },
  {
   "cell_type": "code",
   "execution_count": 3,
   "id": "301fae0e-bb66-4965-91dd-fe3bdeb117ee",
   "metadata": {},
   "outputs": [],
   "source": [
    "i = Image.new(\"RGB\", (WIDTH, HEIGHT))\n",
    "draw = ImageDraw.Draw(i)"
   ]
  },
  {
   "cell_type": "code",
   "execution_count": 4,
   "id": "853dac63-17de-4866-ba4e-dc24003d5242",
   "metadata": {},
   "outputs": [
    {
     "data": {
      "image/png": "[encoded data removed]",
      "text/plain": [
       "<PIL.Image.Image image mode=RGB size=300x300 at 0x7FFA139C6DD0>"
      ]
     },
     "metadata": {},
     "output_type": "display_data"
    }
   ],
   "source": [
    "draw.polygon([(150,150), (200,200), (200,150)], fill=(255,255,0))\n",
    "display(i)"
   ]
  },
  {
   "cell_type": "markdown",
   "id": "2275a831-9415-4491-abe1-41eae22848a9",
   "metadata": {},
   "source": [
    "## 3D Experiment 1: Moving the Triangle"
   ]
  },
  {
   "cell_type": "code",
   "execution_count": 5,
   "id": "6ecb7614-1e83-4ef0-b4a9-438b37546849",
   "metadata": {},
   "outputs": [],
   "source": [
    "# copied from Rotating Clock notebook\n",
    "def translate(tx, ty, tz, p=None):\n",
    "    T = M([[1, 0, 0, tx],\n",
    "           [0, 1, 0, ty],\n",
    "           [0, 0, 1, tz],\n",
    "           [0, 0, 0,  1]])\n",
    "    if p is None:\n",
    "        return T\n",
    "    else:\n",
    "        p = list(p)\n",
    "        p.append(1)\n",
    "        p = T @ p\n",
    "        x = p.tolist()[0][0]\n",
    "        y = p.tolist()[0][1]\n",
    "        z = p.tolist()[0][2]\n",
    "        return((x,y,z))"
   ]
  },
  {
   "cell_type": "code",
   "execution_count": 6,
   "id": "db7e8e11-5de7-4932-a45b-6ce6c9fd6dce",
   "metadata": {},
   "outputs": [],
   "source": [
    "def project_ortho(p=None):\n",
    "    T = M([[1, 0, 0,  0],\n",
    "           [0, 1, 0,  0],\n",
    "           [0, 0, 0,  0],\n",
    "           [0, 0, 0,  1]])\n",
    "    if p is None:\n",
    "        return T\n",
    "    else:\n",
    "        p = list(p)\n",
    "        p.append(1)\n",
    "        p = T @ p\n",
    "        x = p.tolist()[0][0]\n",
    "        y = p.tolist()[0][1]\n",
    "        #z = p.tolist()[0][2]\n",
    "        return((x,y))"
   ]
  },
  {
   "cell_type": "code",
   "execution_count": 7,
   "id": "8ba38221-9261-41ec-bee6-2cfdae610631",
   "metadata": {},
   "outputs": [],
   "source": [
    "def project_perspective(d=1, p=None):\n",
    "    T = M([[1, 0, 0,  0],\n",
    "           [0, 1, 0,  0],\n",
    "           [0, 0, 1,  0],\n",
    "           [0, 0, -1/d,  0]])\n",
    "    if p is None:\n",
    "        return T\n",
    "    else:\n",
    "        p = list(p)\n",
    "        p.append(1)\n",
    "        p = T @ p\n",
    "        #print(p)\n",
    "        w = p.tolist()[0][3]\n",
    "        x = p.tolist()[0][0] / (w+0.0001) # FIXME!!! (just here to avoid division by 0)\n",
    "        y = p.tolist()[0][1] / (w+0.0001) # FIXMEEEEE !!!!!\n",
    "        #z = p.tolist()[0][2]\n",
    "        return((x,y))"
   ]
  },
  {
   "cell_type": "code",
   "execution_count": 8,
   "id": "bc5ea5b8-cb8c-42c4-9ade-e3a3ebe91662",
   "metadata": {},
   "outputs": [],
   "source": [
    "def render(xpos: int, ypos: int, zpos: int):\n",
    "        draw.rectangle([(0,0), (300,300)], fill=0)\n",
    "        points = [(-50,-50, 0), (50,50, 0), (50,-50, 0)] # in 3D, our origin is in the center of the screen\n",
    "        new_points = []\n",
    "        for point in points:\n",
    "            # transform in 3D             \n",
    "            p = translate(xpos, ypos, zpos, point)\n",
    "            # project to 2D\n",
    "            p = project_perspective(-1, p)\n",
    "            p = (p[0] + WIDTH//2, p[1] + HEIGHT//2) # move the origin to the center of the canvas\n",
    "            new_points.append(p)            \n",
    "        draw.polygon(new_points, fill=(255,255,0))\n",
    "        d.update(i)"
   ]
  },
  {
   "cell_type": "code",
   "execution_count": 9,
   "id": "991e30c6-414d-457c-8417-f71b2f5b27aa",
   "metadata": {},
   "outputs": [
    {
     "data": {
      "image/png": "[encoded data removed]",
      "text/plain": [
       "<PIL.Image.Image image mode=RGB size=300x300 at 0x7FFA139C6DD0>"
      ]
     },
     "metadata": {},
     "output_type": "display_data"
    }
   ],
   "source": [
    "d = DisplayHandle()\n",
    "d.display(i)"
   ]
  },
  {
   "cell_type": "code",
   "execution_count": 10,
   "id": "d471a5ee-cebf-459e-a6f1-34c938135cce",
   "metadata": {},
   "outputs": [
    {
     "data": {
      "application/vnd.jupyter.widget-view+json": {
       "model_id": "05dcdfcd064b45d0b470eceeb09d1390",
       "version_major": 2,
       "version_minor": 0
      },
      "text/plain": [
       "interactive(children=(IntSlider(value=0, description='xpos', min=-100), IntSlider(value=0, description='ypos',…"
      ]
     },
     "metadata": {},
     "output_type": "display_data"
    }
   ],
   "source": [
    "_ = interact(render, xpos=(-100,100), ypos=(-100,100), zpos=(0,10.0))"
   ]
  },
  {
   "cell_type": "markdown",
   "id": "33044a07-fd00-48b7-a85a-b9e26958ed1b",
   "metadata": {},
   "source": [
    "## Next steps\n",
    "- add rotate and scale functions\n",
    "- add a cube: define the six sides of the cube as polygons in 3D space\n",
    "- implement backface culling by calculating the normal of each polygon and determining whether it faces towards the viewport or away from it. \n",
    "- add another object, e.g. a plane or another cube\n",
    "- implement the painters algorithm: determine the center of each polygon and then sort the polygon's by Z value before drawing them\n",
    "- add a camera and apply it's perspective by multiplying the inverse of the camera transform matrix onto each vertex"
   ]
  }
 ],
 "metadata": {
  "kernelspec": {
   "display_name": "Python 3",
   "language": "python",
   "name": "python3"
  },
  "language_info": {
   "codemirror_mode": {
    "name": "ipython",
    "version": 3
   },
   "file_extension": ".py",
   "mimetype": "text/x-python",
   "name": "python",
   "nbconvert_exporter": "python",
   "pygments_lexer": "ipython3",
   "version": "3.10.5"
  }
 },
 "nbformat": 4,
 "nbformat_minor": 5
}
