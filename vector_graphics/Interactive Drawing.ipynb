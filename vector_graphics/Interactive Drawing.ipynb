{
 "cells": [
  {
   "cell_type": "code",
   "execution_count": null,
   "id": "983923e6-0f36-433b-bdd5-5d562d537e70",
   "metadata": {},
   "outputs": [],
   "source": [
    "from IPython.display import display\n",
    "from ipywidgets import Image, HTML, Label, Button, VBox, Box, HBox\n",
    "# more containers: https://ipywidgets.readthedocs.io/en/stable/examples/Widget%20List.html#container-layout-widgets\n",
    "\n",
    "from ipyevents import Event\n",
    "# see https://ipyevents.readthedocs.io/en/latest/\n",
    "# install via `pip install ipyevents`\n",
    "\n",
    "from PIL import Image as PImage\n",
    "import io # needed for PIL image -> PNG\n"
   ]
  },
  {
   "cell_type": "code",
   "execution_count": null,
   "id": "7d37190c-d28f-46a0-96b6-20bf7c180873",
   "metadata": {},
   "outputs": [],
   "source": [
    "def pil2png(pimg: PImage):\n",
    "    \"\"\"helper function that converts a PIL Image into a PNG byte array that we can send to the browser\"\"\" \n",
    "    byte_array = io.BytesIO()\n",
    "    pimg.save(byte_array, format='PNG')\n",
    "    return(byte_array.getvalue())"
   ]
  },
  {
   "cell_type": "code",
   "execution_count": null,
   "id": "301fae0e-bb66-4965-91dd-fe3bdeb117ee",
   "metadata": {},
   "outputs": [],
   "source": [
    "i = PImage.new(\"L\", (300,300))"
   ]
  },
  {
   "cell_type": "code",
   "execution_count": null,
   "id": "7f0c4599-bc2a-4b1f-a358-bc5f11aa3ec4",
   "metadata": {},
   "outputs": [],
   "source": [
    "# Our widgets\n",
    "\n",
    "iw = Image(value=pil2png(i), format='png')\n",
    "clear_btn = Button(description=\"Clear\",button_style=\"danger\")\n",
    "#clear_btn.layout.border = '2px solid red'\n",
    "info = HTML('<h3>Move mouse over image to see coordinates</h3>')\n",
    "hbox = HBox([iw, VBox([clear_btn, info])])"
   ]
  },
  {
   "cell_type": "code",
   "execution_count": null,
   "id": "934cd606-1b49-48ee-bf27-5f50d842b0fd",
   "metadata": {},
   "outputs": [],
   "source": [
    "#display(clear_btn, iw, info)  # simple option that just puts all widgets one below the other"
   ]
  },
  {
   "cell_type": "code",
   "execution_count": null,
   "id": "b7955c87-3b95-4164-bc59-9e7ec64d128f",
   "metadata": {},
   "outputs": [],
   "source": [
    "display(hbox)"
   ]
  },
  {
   "cell_type": "markdown",
   "id": "e33c713b-ab1c-436c-8410-aba496a9a44b",
   "metadata": {},
   "source": [
    "**Troubleshooting hint:** If the widget above does not display the current mouse position, there is probably a problem with your ipywidgets installation. Press F12 to check the error console. It probably shows an error message such as `No such comm target registered: ...`. Check the web for potential solutions (e.g. [this StackOverflow post](https://stackoverflow.com/questions/52590291/interactive-jupyter-widgets-not-working-in-jupyter-lab)).\n",
    "\n"
   ]
  },
  {
   "cell_type": "code",
   "execution_count": null,
   "id": "3ab46dec-ea68-4b77-b8dd-31a8bc76304c",
   "metadata": {},
   "outputs": [],
   "source": [
    "# supported event types: click, auxclick, dblclick, mouseenter, mouseleave, mousedown, mouseup, mousemove, wheel\n",
    "\n",
    "iw_clicked = Event(source=iw, watched_events = ['click'])\n",
    "def set_pixel(event):\n",
    "    global i\n",
    "    color = 255\n",
    "    i.putpixel((event['dataX'],event['dataY']), color)\n",
    "    iw.value = pil2png(i)\n",
    "    info.value = f\"Clicked at ({event['dataX']}, {event['dataY']})\"\n",
    "iw_clicked.on_dom_event(set_pixel)\n",
    "\n",
    "##########\n",
    "\n",
    "iw_moved = Event(source=iw, watched_events = ['mousemove'])\n",
    "def update_coords(event):\n",
    "    info.value = f\"Mouse at ({event['dataX']}, {event['dataY']})\"\n",
    "iw_moved.on_dom_event(update_coords)\n",
    "\n",
    "##########\n",
    "\n",
    "# we do not want the image to be dragged in the notebook\n",
    "disable_drag = Event(source=iw, watched_events=['dragstart'], prevent_default_action = True)\n",
    "\n",
    "#########\n",
    "clear_clicked = Event(source=clear_btn, watched_events = ['click'])\n",
    "def clear(event):\n",
    "    global i\n",
    "    i = PImage.new(\"L\", (300,300))\n",
    "    iw.value = pil2png(i)\n",
    "clear_clicked.on_dom_event(clear)\n",
    "\n",
    "# Hint: For the button, we could also just do `clear_btn.on_click(clear)`\n"
   ]
  },
  {
   "cell_type": "markdown",
   "id": "ae2d0d1f-1a82-4644-ba77-f23b2769828e",
   "metadata": {},
   "source": [
    "## Ideas for further development\n",
    "\n",
    "- make pil2png a method of the PIL Image class so that you can call `i.png()` instead of `pil2png(i)` (see 'Rotating Clock.ipynb' example)\n",
    "- draw lines using the naive line algorithm or the Bresenham line drawing algorithm\n",
    "- draw Bezier curves using Bernstein formula or de-Casteljau algorithm\n",
    "- add color\n",
    "- add filters\n",
    "- add further drawing tools\n",
    "- make line width adjustable (Wu's algorithm)\n"
   ]
  },
  {
   "cell_type": "code",
   "execution_count": null,
   "id": "5bc5382e-321e-48c3-a0ac-e5a69e862c42",
   "metadata": {},
   "outputs": [],
   "source": []
  }
 ],
 "metadata": {
  "kernelspec": {
   "display_name": "Python 3 (ipykernel)",
   "language": "python",
   "name": "python3"
  },
  "language_info": {
   "codemirror_mode": {
    "name": "ipython",
    "version": 3
   },
   "file_extension": ".py",
   "mimetype": "text/x-python",
   "name": "python",
   "nbconvert_exporter": "python",
   "pygments_lexer": "ipython3",
   "version": "3.11.9"
  }
 },
 "nbformat": 4,
 "nbformat_minor": 5
}
