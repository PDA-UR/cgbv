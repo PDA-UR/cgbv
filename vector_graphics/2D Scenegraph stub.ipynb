{
 "cells": [
  {
   "cell_type": "markdown",
   "metadata": {},
   "source": [
    "# 2D Scenegraph Example\n",
    "\n",
    "From first principles"
   ]
  },
  {
   "cell_type": "markdown",
   "metadata": {},
   "source": [
    "Let's start at the beginning: we need to draw lines on the screen. While Pillow offers functions for drawing lines, we'll implement a simple one ourselves. (The first 26 cells jut repeat stuff you should already know)"
   ]
  },
  {
   "cell_type": "code",
   "execution_count": null,
   "metadata": {},
   "outputs": [],
   "source": [
    "from PIL import Image"
   ]
  },
  {
   "cell_type": "code",
   "execution_count": null,
   "metadata": {},
   "outputs": [],
   "source": [
    "def naive_line(img, p1, p2, color=255):\n",
    "    vertical = False \n",
    "    w, h = img.size # new: remember the size of the image\n",
    "    x1, y1 = p1\n",
    "    x2, y2 = p2\n",
    "    if abs(y2-y1) > abs(x2-x1):\n",
    "        vertical = True\n",
    "        x1, y1 = y1, x1\n",
    "        x2, y2 = y2, x2\n",
    "    if x1 > x2:\n",
    "        x1, x2 = x2, x1\n",
    "        y1, y2 = y2, y1\n",
    "    if x2 == x1: # handle line of length 0\n",
    "        return img\n",
    "    m = (y2-y1) / (x2-x1)\n",
    "    t = y1 - m*x1\n",
    "    for x in range(x1, x2+1):\n",
    "        y = int(m*x + t)\n",
    "        if vertical:\n",
    "            x, y = y, x\n",
    "        if (x <= w+1 and y <= h-1): # new: only draw pixels within the canvas\n",
    "            img.putpixel((x,y), color) \n",
    "    return img"
   ]
  },
  {
   "cell_type": "code",
   "execution_count": null,
   "metadata": {},
   "outputs": [],
   "source": [
    "Image.Image.line = naive_line\n",
    "i = Image.new(\"L\",(100,100))\n",
    "i.line((10,10), (30,70)) # -> naive_line(i, (10,10), (30,70))"
   ]
  },
  {
   "cell_type": "markdown",
   "metadata": {},
   "source": [
    "This only works because \n",
    "\n",
    "- you can dynamically add methods to classes (``Image.Image.line = naive_line``)\n",
    "- methods are not really different than normal functions - \n",
    "  Python just translates calls to ``obj.line(p1, p2)`` to ``line(obj, p1, p2)``\n",
    "- the first parameter of `ǹaive_line()`` (``img``) expects an ``Image`` object - and the aforementioned mechanism\n",
    "  results in a call of `ǹaive_line(i, p1, p2)`` - i.e., passes our image object to the function\n",
    "  \n",
    "We won't use this method in the following, though."
   ]
  },
  {
   "cell_type": "markdown",
   "metadata": {},
   "source": [
    "## Drawing Shapes\n",
    "\n",
    "We'll just draw unfilled shapes for now because filled shapes are actually a little bit more difficult"
   ]
  },
  {
   "cell_type": "code",
   "execution_count": null,
   "metadata": {},
   "outputs": [],
   "source": [
    "# a generator that translates a tuple (p1, p2, p3) into a series of tuples (p1, p2), (p2, p3), (p3,p1)\n",
    "def pairwise_wrap(l):\n",
    "    l = iter(l)\n",
    "    first = next(l, None)\n",
    "    prev = first\n",
    "    while o := next(l, False):\n",
    "        yield (prev, o)\n",
    "        prev = o\n",
    "    yield (prev, first)"
   ]
  },
  {
   "cell_type": "code",
   "execution_count": null,
   "metadata": {},
   "outputs": [],
   "source": [
    "def draw_shape(img, shape, color=255):\n",
    "    for p1, p2 in pairwise_wrap(shape):\n",
    "        naive_line(img, map(int, p1), map(int, p2), color)\n",
    "    return img\n",
    "        \n",
    "Image.Image.draw_shape = draw_shape # also assign this function to the Image class"
   ]
  },
  {
   "cell_type": "code",
   "execution_count": null,
   "metadata": {},
   "outputs": [],
   "source": [
    "i = Image.new(\"L\",(100,100))\n",
    "rect = ((10,10), (10,90), (90,90), (90,10))\n",
    "i.draw_shape(rect)"
   ]
  },
  {
   "cell_type": "markdown",
   "metadata": {},
   "source": [
    "## Transformations"
   ]
  },
  {
   "cell_type": "code",
   "execution_count": null,
   "metadata": {},
   "outputs": [],
   "source": [
    "import numpy as np\n",
    "from numpy import matrix as M\n",
    "from math import sin, cos, pi"
   ]
  },
  {
   "cell_type": "code",
   "execution_count": null,
   "metadata": {},
   "outputs": [],
   "source": [
    "A = M('1 0; 0 1')\n",
    "B = M([[-1, 0], [1,0]])\n",
    "A, B"
   ]
  },
  {
   "cell_type": "code",
   "execution_count": null,
   "metadata": {},
   "outputs": [],
   "source": [
    "v = (2,3)"
   ]
  },
  {
   "cell_type": "code",
   "execution_count": null,
   "metadata": {},
   "outputs": [],
   "source": [
    "A * v # this does not work "
   ]
  },
  {
   "cell_type": "code",
   "execution_count": null,
   "metadata": {},
   "outputs": [],
   "source": [
    "A * 3 # this does work"
   ]
  },
  {
   "cell_type": "code",
   "execution_count": null,
   "metadata": {},
   "outputs": [],
   "source": [
    "B @ v"
   ]
  },
  {
   "cell_type": "code",
   "execution_count": null,
   "metadata": {},
   "outputs": [],
   "source": [
    "v @ B"
   ]
  },
  {
   "cell_type": "code",
   "execution_count": null,
   "metadata": {},
   "outputs": [],
   "source": [
    "def translate(tx, ty, p=None):\n",
    "    T = M([[1, 0, tx],\n",
    "           [0, 1, ty],\n",
    "           [0, 0, 1]])\n",
    "    if p is None:\n",
    "        return T\n",
    "    else:\n",
    "        p = list(p)\n",
    "        p.append(1)\n",
    "        p = T @ p\n",
    "        x = p.tolist()[0][0]\n",
    "        y = p.tolist()[0][1]\n",
    "        return((x,y))"
   ]
  },
  {
   "cell_type": "code",
   "execution_count": null,
   "metadata": {},
   "outputs": [],
   "source": [
    "translate(0, 0)"
   ]
  },
  {
   "cell_type": "code",
   "execution_count": null,
   "metadata": {},
   "outputs": [],
   "source": [
    "def rotate(angle, p=None):\n",
    "    # degree to radian\n",
    "    angle = angle / (180/pi)\n",
    "    R = M([[cos(angle), -sin(angle), 0],\n",
    "          [sin(angle), cos(angle), 0],\n",
    "          [0, 0, 1]])\n",
    "    if p is None:\n",
    "        return R\n",
    "    else:\n",
    "        p = list(p)\n",
    "        p.append(1)\n",
    "        p = R @ p\n",
    "        x = p.tolist()[0][0]\n",
    "        y = p.tolist()[0][1]\n",
    "        return((x,y))"
   ]
  },
  {
   "cell_type": "code",
   "execution_count": null,
   "metadata": {},
   "outputs": [],
   "source": [
    "rotate(45, (2,2))"
   ]
  },
  {
   "cell_type": "code",
   "execution_count": null,
   "metadata": {},
   "outputs": [],
   "source": [
    "def scale(sx, sy, p=None):\n",
    "    S = M([[sx, 0, 0],\n",
    "           [0, sy, 0],\n",
    "           [0, 0, 1]])\n",
    "    if p is None:\n",
    "        return S\n",
    "    else:\n",
    "        p = list(p)\n",
    "        p.append(1)\n",
    "        p = S @ p\n",
    "        x = p.tolist()[0][0]\n",
    "        y = p.tolist()[0][1]\n",
    "        return((x,y))"
   ]
  },
  {
   "cell_type": "code",
   "execution_count": null,
   "metadata": {},
   "outputs": [],
   "source": [
    "scale(3, -0.3, (20, 5))"
   ]
  },
  {
   "cell_type": "code",
   "execution_count": null,
   "metadata": {},
   "outputs": [],
   "source": [
    "rotate(180, [10,0])"
   ]
  },
  {
   "cell_type": "code",
   "execution_count": null,
   "metadata": {},
   "outputs": [],
   "source": [
    "i = Image.new(\"L\",(100,100))\n",
    "for a in range(0, 360, 5):\n",
    "    _ = i.line(map(int, translate(50,50, rotate(a, [30,0]))), \n",
    "               map(int, translate(50,50, rotate(a, [40,0]))))\n",
    "display(i)"
   ]
  },
  {
   "cell_type": "code",
   "execution_count": null,
   "metadata": {},
   "outputs": [],
   "source": [
    "A = translate(20,20)\n",
    "B = rotate(45)\n",
    "print(A @ B)"
   ]
  },
  {
   "cell_type": "code",
   "execution_count": null,
   "metadata": {},
   "outputs": [],
   "source": [
    "C = A @ B\n",
    "C @ (10,10, 1)"
   ]
  },
  {
   "cell_type": "markdown",
   "metadata": {},
   "source": [
    "### Helper Functions\n",
    "\n",
    "Let's define two helper functions that make transforming and drawing shapes easier."
   ]
  },
  {
   "cell_type": "code",
   "execution_count": null,
   "metadata": {},
   "outputs": [],
   "source": [
    "def draw_shape(img, shape, color=255):\n",
    "    for p1, p2 in pairwise_wrap(shape):\n",
    "        naive_line(img, map(int, p1), map(int, p2), color)"
   ]
  },
  {
   "cell_type": "code",
   "execution_count": null,
   "metadata": {},
   "outputs": [],
   "source": [
    "def transform(shape, matrix):\n",
    "    ret = []\n",
    "    for point in shape:\n",
    "        if len(point) == 2:\n",
    "            point = list(point)\n",
    "            point.append(1)\n",
    "        elif len(point) != 3:\n",
    "            raise ValueError(\"Points need to have a length of 2 or 3.\")\n",
    "        p = matrix @ point\n",
    "        x = p.tolist()[0][0]\n",
    "        y = p.tolist()[0][1]\n",
    "        ret.append((x,y))\n",
    "    return ret"
   ]
  },
  {
   "cell_type": "code",
   "execution_count": null,
   "metadata": {},
   "outputs": [],
   "source": [
    "i = Image.new(\"L\",(100,100))\n",
    "rect = ((10,10), (10,90), (90,90), (90,10))\n",
    "rect2 = transform(rect, translate(50,50) @ rotate(45) @ scale(0.5, 0.5) @ translate(-50,-50))\n",
    "i.draw_shape(rect2)"
   ]
  },
  {
   "cell_type": "markdown",
   "metadata": {},
   "source": [
    "## Finally, a scenegraph\n",
    "\n",
    "First step: a very shallow scenegraph where the root node has only transform nodes as children - which in turn have exactly one shape as their child.\n",
    "\n",
    "```\n",
    "         ┌────┐\n",
    "         │ROOT│\n",
    "         └─┬──┘\n",
    "           │\n",
    "  ┌────────┼───────┐\n",
    "  │        │       │\n",
    "┌─┴─┐    ┌─┴─┐   ┌─┴─┐\n",
    "│T 1│    │T 2│   │TT3│\n",
    "└─┬─┘    └─┬─┘   └─┬─┘\n",
    "  │        │       │\n",
    "┌─┴─┐    ┌─┴─┐   ┌─┴─┐\n",
    "│SS1│    │SS2│   │SS3│\n",
    "└───┘    └───┘   └───┘\n",
    "```\n"
   ]
  },
  {
   "cell_type": "code",
   "execution_count": null,
   "metadata": {},
   "outputs": [],
   "source": [
    "class Scene:\n",
    "\n",
    "    @staticmethod\n",
    "    def transform(shape, matrix):\n",
    "        ret = []\n",
    "        for point in shape:\n",
    "            if len(point) == 2:\n",
    "                point = list(point)\n",
    "                point.append(1)\n",
    "            elif len(point) != 3:\n",
    "                raise ValueError(\"Points need to have a length of 2 or 3.\")\n",
    "            p = matrix @ point\n",
    "            x = p.tolist()[0][0]\n",
    "            y = p.tolist()[0][1]\n",
    "            ret.append((x,y))\n",
    "        return ret\n",
    "\n",
    "    \n",
    "    def __init__(self):\n",
    "        self.root = None\n",
    "        self.canvas = Image.new(\"L\",(400,400))\n",
    "        \n",
    "    def draw_shape(self, shape, color=255):\n",
    "        for p1, p2 in pairwise_wrap(shape):\n",
    "            naive_line(self.canvas, map(int, p1), map(int, p2), color)\n",
    "        \n",
    "    def render(self):\n",
    "        # a very simple, shallow scenegraph!\n",
    "        transform_stack = []\n",
    "        transform_stack.append(self.root.transform)\n",
    "        for transform_node in self.root.children:\n",
    "            transform_stack.append(transform_node.transform)         \n",
    "            tm = transform_stack[0] @ transform_stack[1] # 0 = tm von root, 1 = tm des aktuellen Nodes\n",
    "            for shape_node in transform_node.children:\n",
    "                if type(shape_node) == Shape:\n",
    "                    self.draw_shape(transform(shape_node.path,tm))\n",
    "            transform_stack.pop()\n",
    "        return self.canvas\n",
    "\n",
    "    \n",
    "class Node:\n",
    "\n",
    "    def __init__(self, parent=None):\n",
    "        self.parent = parent\n",
    "        self.children = []\n",
    "        self.transform = M([[1, 0, 0],\n",
    "                            [0, 1, 0],\n",
    "                            [0, 0, 1]])\n",
    "        \n",
    "    def add_child(self, child):\n",
    "        self.children.append(child)\n",
    "        \n",
    "    def translate(self, x, y):\n",
    "        tm = translate(x,y)\n",
    "        self.transform = tm @ self.transform\n",
    "\n",
    "        \n",
    "class Shape:\n",
    "    \n",
    "    def __init__(self, path):\n",
    "        self.path = path"
   ]
  },
  {
   "cell_type": "code",
   "execution_count": null,
   "metadata": {},
   "outputs": [],
   "source": [
    "scene = Scene()\n",
    "scene.root = Node()\n",
    "rect = ((0,0), (0,100), (100,100), (100,0))\n",
    "\n",
    "# Shape 1\n",
    "shape1_t = Node()\n",
    "scene.root.add_child(shape1_t)\n",
    "shape1_t.add_child(Shape(rect))\n",
    "shape1_t.translate(-100,-100)\n",
    "\n",
    "# Shape 2\n",
    "shape2_t = Node()\n",
    "scene.root.add_child(shape2_t)\n",
    "shape2_t.add_child(Shape(rect))\n",
    "shape2_t.translate(0, 0)\n",
    "\n",
    "scene.root.translate(200, 200)\n",
    "\n",
    "scene.render()"
   ]
  },
  {
   "cell_type": "markdown",
   "metadata": {},
   "source": [
    "## What's missing here?\n",
    "\n",
    "(i.e., what could you add to this code)\n",
    "\n",
    "- recursive parsing of the tree\n",
    "- application of all transform matrices on the stack, not just the first two\n",
    "- rotation / scaling\n",
    "- a camera\n",
    "- animation\n",
    "- groups with inherited properties (such as color)"
   ]
  },
  {
   "cell_type": "code",
   "execution_count": null,
   "metadata": {},
   "outputs": [],
   "source": []
  }
 ],
 "metadata": {
  "kernelspec": {
   "display_name": "Python 3",
   "language": "python",
   "name": "python3"
  },
  "language_info": {
   "codemirror_mode": {
    "name": "ipython",
    "version": 3
   },
   "file_extension": ".py",
   "mimetype": "text/x-python",
   "name": "python",
   "nbconvert_exporter": "python",
   "pygments_lexer": "ipython3",
   "version": "3.10.5"
  }
 },
 "nbformat": 4,
 "nbformat_minor": 4
}
