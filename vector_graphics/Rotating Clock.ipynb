{
 "cells": [
  {
   "cell_type": "markdown",
   "metadata": {},
   "source": [
    "# Vector Graphics with Python\n",
    "## Example: A rotating clock\n",
    "\n",
    "In this example, we draw a \"rotating\" clock using only Pillow's ``Image.putpixel()`` method, a simple line drawing algorithm, and a few matrix transformations. \n",
    "\n",
    "You should have an understanding of:\n",
    "\n",
    "* Python\n",
    "* how lines are defined by ``y=m*x+t``\n",
    "* transformation of homogeneous vectors via matrices\n",
    "* image filtering via convolution (optional, for the blur filter)"
   ]
  },
  {
   "cell_type": "markdown",
   "metadata": {},
   "source": [
    "Here's what we want to achieve:"
   ]
  },
  {
   "cell_type": "code",
   "execution_count": null,
   "metadata": {},
   "outputs": [],
   "source": [
    "from IPython.display import Video\n",
    "Video('rotating_clock.mp4', embed=True)"
   ]
  },
  {
   "cell_type": "markdown",
   "metadata": {},
   "source": [
    "## Drawing Lines\n",
    "Let's start at the beginning: we need to draw lines on the screen. While Pillow offers functions for drawing lines, we'll implement a simple one ourselves."
   ]
  },
  {
   "cell_type": "code",
   "execution_count": null,
   "metadata": {},
   "outputs": [],
   "source": [
    "from PIL import Image\n",
    "from PIL.ImageOps import scale"
   ]
  },
  {
   "cell_type": "code",
   "execution_count": null,
   "metadata": {},
   "outputs": [],
   "source": [
    "i = Image.new(\"L\", (200,200)) # \"L\" = grayscale image (one channel, 8 bit)"
   ]
  },
  {
   "cell_type": "code",
   "execution_count": null,
   "metadata": {},
   "outputs": [],
   "source": [
    "# Let's see what i contains ... darkness!\n",
    "i"
   ]
  },
  {
   "cell_type": "markdown",
   "metadata": {},
   "source": [
    "Let's write a simple line drawing method and iteratively improve it. \n",
    "Our intuition: given two points on the screen, go from left to right (increase the x value) and set the pixel to white for which the line equation y = m*x + t is true"
   ]
  },
  {
   "cell_type": "code",
   "execution_count": null,
   "metadata": {},
   "outputs": [],
   "source": [
    "def naive_line(img, p1, p2):\n",
    "    x1, y1 = p1\n",
    "    x2, y2 = p2\n",
    "    m = (y2-y1) / (x2-x1) # slope of the line: delta_y / delta_x\n",
    "    # y = m*x + t  =>  t = y - m * x\n",
    "    t = y1 - m*x1 # as the first point has to be on the line, we can use it to calculate t\n",
    "    for x in range(x1, x2+1): # we iterate until x2+1 because we want to also set the pixel at p2\n",
    "        y = int(m*x + t)\n",
    "        img.putpixel((x,y), 255)\n",
    "    return img"
   ]
  },
  {
   "cell_type": "code",
   "execution_count": null,
   "metadata": {},
   "outputs": [],
   "source": [
    "naive_line(i, (0,0), (199,199))"
   ]
  },
  {
   "cell_type": "code",
   "execution_count": null,
   "metadata": {},
   "outputs": [],
   "source": [
    "naive_line(i, (0,99), (199,0))"
   ]
  },
  {
   "cell_type": "code",
   "execution_count": null,
   "metadata": {},
   "outputs": [],
   "source": [
    "naive_line(i, (199,99), (0,99))"
   ]
  },
  {
   "cell_type": "markdown",
   "metadata": {},
   "source": [
    "**Huh?!** Where's the last line? \n",
    "\n",
    "It turns out that iterating from x1=199 to x2+1=1 using Python's ``range()`` function does not work. \n",
    "The function expects the lower value as the first argument.\n",
    "So, let's fix this issue: if x1 > x2, we'll just swap the points so that x1 is again lower than (or equal to) x2."
   ]
  },
  {
   "cell_type": "code",
   "execution_count": null,
   "metadata": {},
   "outputs": [],
   "source": [
    "def naive_line(img, p1, p2):\n",
    "    x1, y1 = p1\n",
    "    x2, y2 = p2\n",
    "    if x1 > x2: # new: let's swap p1 and p2 if p1 is right of p2\n",
    "        x1, x2 = x2, x1\n",
    "        y1, y2 = y2, y1\n",
    "    m = (y2-y1) / (x2-x1)\n",
    "    t = y1 - m*x1\n",
    "    for x in range(x1, x2+1):\n",
    "        y = int(m*x + t)\n",
    "        img.putpixel((x,y), 255)\n",
    "    return img"
   ]
  },
  {
   "cell_type": "code",
   "execution_count": null,
   "metadata": {},
   "outputs": [],
   "source": [
    "naive_line(i, (199,99), (0,99))"
   ]
  },
  {
   "cell_type": "markdown",
   "metadata": {},
   "source": [
    "Now it works. Great! Let's draw a final line to check everything works..."
   ]
  },
  {
   "cell_type": "code",
   "execution_count": null,
   "metadata": {},
   "outputs": [],
   "source": [
    "naive_line(i, (0,0), (20,199))"
   ]
  },
  {
   "cell_type": "markdown",
   "metadata": {},
   "source": [
    "Oh, why are we drawing a dotted line now? Lez's have a closer look"
   ]
  },
  {
   "cell_type": "code",
   "execution_count": null,
   "metadata": {},
   "outputs": [],
   "source": [
    "scale(i, 5)"
   ]
  },
  {
   "cell_type": "markdown",
   "metadata": {},
   "source": [
    "As we iterate along the x axis, we always set exactly one pixel in each column. This leaves those gaps. \n",
    "While we could extend our algorithm to set multiple pixels per column, there is an easier way: \n",
    "    \n",
    "If the line is steeper than 45°, we simply iterate along the y axis instead of the x axis. \n",
    "And because we don't want too much duplicated code, we'll just swap x and y axis before the loop and then \n",
    "swap them back before drawing"
   ]
  },
  {
   "cell_type": "code",
   "execution_count": null,
   "metadata": {},
   "outputs": [],
   "source": [
    "def naive_line(img, p1, p2, color=255):\n",
    "    vertical = False  # new: we'll use this flag to remember along which axis we are drawing\n",
    "    x1, y1 = p1\n",
    "    x2, y2 = p2\n",
    "    if abs(y2-y1) > abs(x2-x1):  # new: swap x and y axis if delta_y > delta_x, i.e., we have a steep line\n",
    "        vertical = True\n",
    "        x1, y1 = y1, x1\n",
    "        x2, y2 = y2, x2\n",
    "    if x1 > x2:\n",
    "        x1, x2 = x2, x1\n",
    "        y1, y2 = y2, y1\n",
    "    m = (y2-y1) / (x2-x1)\n",
    "    t = y1 - m*x1\n",
    "    for x in range(x1, x2+1):\n",
    "        y = int(m*x + t)\n",
    "        if vertical:\n",
    "            x, y = y, x # swap pixels\n",
    "        img.putpixel((x,y), color)\n",
    "    return img"
   ]
  },
  {
   "cell_type": "code",
   "execution_count": null,
   "metadata": {},
   "outputs": [],
   "source": [
    "naive_line(i, (0,0), (20,199))"
   ]
  },
  {
   "cell_type": "markdown",
   "metadata": {},
   "source": [
    "Yay, we've written a line drawing function that works for all cases ... let's handle the corner cases. \n",
    "\n",
    "What could these be?"
   ]
  },
  {
   "cell_type": "code",
   "execution_count": null,
   "metadata": {},
   "outputs": [],
   "source": [
    "naive_line(i, (0,0), (0,0)) # lines of length zero"
   ]
  },
  {
   "cell_type": "code",
   "execution_count": null,
   "metadata": {},
   "outputs": [],
   "source": [
    "naive_line(i, (0,100), (300,300)) # trying to set pixels outside our canvas"
   ]
  },
  {
   "cell_type": "code",
   "execution_count": null,
   "metadata": {},
   "outputs": [],
   "source": [
    "def naive_line(img, p1, p2, color=128): # new: draw less bright\n",
    "    vertical = False \n",
    "    w, h = img.size # new: remember the size of the image\n",
    "    x1, y1 = p1\n",
    "    x2, y2 = p2\n",
    "    if abs(y2-y1) > abs(x2-x1):\n",
    "        vertical = True\n",
    "        x1, y1 = y1, x1\n",
    "        x2, y2 = y2, x2\n",
    "    if x1 > x2:\n",
    "        x1, x2 = x2, x1\n",
    "        y1, y2 = y2, y1\n",
    "    if x2 == x1: # handle line of length 0\n",
    "        return img\n",
    "    m = (y2-y1) / (x2-x1)\n",
    "    t = y1 - m*x1\n",
    "    for x in range(x1, x2+1):\n",
    "        y = int(m*x + t)\n",
    "        if vertical:\n",
    "            x, y = y, x\n",
    "        if (x <= w+1 and y <= h-1): # new: only draw pixels within the canvas\n",
    "            img.putpixel((x,y), color) \n",
    "    return img"
   ]
  },
  {
   "cell_type": "code",
   "execution_count": null,
   "metadata": {},
   "outputs": [],
   "source": [
    "naive_line(i, (0,0), (0,0)) # lines of length zero"
   ]
  },
  {
   "cell_type": "code",
   "execution_count": null,
   "metadata": {},
   "outputs": [],
   "source": [
    "naive_line(i, (0,100), (300,300)) # trying to set pixels outside our canvas"
   ]
  },
  {
   "cell_type": "markdown",
   "metadata": {},
   "source": [
    "### Small trick: adding a new method to a class"
   ]
  },
  {
   "cell_type": "code",
   "execution_count": null,
   "metadata": {},
   "outputs": [],
   "source": [
    "Image.Image.line = naive_line\n",
    "i = Image.new(\"L\",(100,100))\n",
    "i.line((10,10), (30,70)) # -> naive_line(i, (10,10), (30,70))"
   ]
  },
  {
   "cell_type": "markdown",
   "metadata": {},
   "source": [
    "This only works because \n",
    "\n",
    "- you can dynamically add methods to classes (``Image.Image.line = naive_line``)\n",
    "- methods are not really different than normal functions - \n",
    "  Python just translates calls to ``obj.line(p1, p2)`` to ``line(obj, p1, p2)``\n",
    "- the first parameter of `ǹaive_line()`` (``img``) expects an ``Image`` object - and the aforementioned mechanism\n",
    "  results in a call of `ǹaive_line(i, p1, p2)`` - i.e., passes our image object to the function\n",
    "  \n",
    "We will use this hack in the following. Also, let's add a convenience function that draws a marker"
   ]
  },
  {
   "cell_type": "code",
   "execution_count": null,
   "metadata": {},
   "outputs": [],
   "source": [
    "def within(img, x, y):\n",
    "    w, h = img.size\n",
    "    x, y = int(x), int(y)\n",
    "    if x >= 0 and x < w and y >= 0 and y < h: \n",
    "        return True\n",
    "    else:\n",
    "        return False\n",
    "        \n",
    "def marker(img, p, size=3, color=255):\n",
    "    if size < 1:\n",
    "        return\n",
    "    #img.putpixel(p, color)\n",
    "    x, y = map(int, p)\n",
    "    for i in range(-size+1, size):\n",
    "        if within(img, x+i, y):\n",
    "            img.putpixel((x+i,y), color) \n",
    "        if within(img, x, y+i):\n",
    "            img.putpixel((x,y+i), color) \n",
    "    return img\n",
    "\n",
    "Image.Image.marker = marker"
   ]
  },
  {
   "cell_type": "code",
   "execution_count": null,
   "metadata": {},
   "outputs": [],
   "source": [
    "i.marker((50,50))"
   ]
  },
  {
   "cell_type": "markdown",
   "metadata": {},
   "source": [
    "## Drawing Shapes\n",
    "\n",
    "We'll just draw unfilled shapes for now because filled shapes are actually a little bit more difficult"
   ]
  },
  {
   "cell_type": "code",
   "execution_count": null,
   "metadata": {},
   "outputs": [],
   "source": [
    "# a generator that translates a tuple (p1, p2, p3) into a series of tuples (p1, p2), (p2, p3), (p3,p1)\n",
    "def pairwise_wrap(l):\n",
    "    l = iter(l)\n",
    "    first = next(l, None)\n",
    "    prev = first\n",
    "    while o := next(l, False):\n",
    "        yield (prev, o)\n",
    "        prev = o\n",
    "    yield (prev, first)"
   ]
  },
  {
   "cell_type": "code",
   "execution_count": null,
   "metadata": {},
   "outputs": [],
   "source": [
    "def draw_shape(img, shape, color=128, markers=True):\n",
    "    for p1, p2 in pairwise_wrap(shape):\n",
    "        naive_line(img, map(int, p1), map(int, p2), color)\n",
    "        if markers:\n",
    "            img.marker(p1)\n",
    "    return img\n",
    "        \n",
    "Image.Image.draw_shape = draw_shape # also assign this function to the Image class"
   ]
  },
  {
   "cell_type": "code",
   "execution_count": null,
   "metadata": {},
   "outputs": [],
   "source": [
    "i = Image.new(\"L\",(100,100))\n",
    "rect = ((10,10), (10,90), (90,90), (90,10))\n",
    "i.draw_shape(rect)"
   ]
  },
  {
   "cell_type": "markdown",
   "metadata": {},
   "source": [
    "## Transformations"
   ]
  },
  {
   "cell_type": "code",
   "execution_count": null,
   "metadata": {},
   "outputs": [],
   "source": [
    "import numpy as np\n",
    "from numpy import matrix as M\n",
    "from math import sin, cos, pi"
   ]
  },
  {
   "cell_type": "code",
   "execution_count": null,
   "metadata": {},
   "outputs": [],
   "source": [
    "A = M('1 0; 0 1')\n",
    "B = M([[-1, 0], [1,0]])\n",
    "A, B"
   ]
  },
  {
   "cell_type": "code",
   "execution_count": null,
   "metadata": {},
   "outputs": [],
   "source": [
    "A * 3"
   ]
  },
  {
   "cell_type": "code",
   "execution_count": null,
   "metadata": {},
   "outputs": [],
   "source": [
    "v = (2,3)"
   ]
  },
  {
   "cell_type": "code",
   "execution_count": null,
   "metadata": {},
   "outputs": [],
   "source": [
    "v * A"
   ]
  },
  {
   "cell_type": "code",
   "execution_count": null,
   "metadata": {},
   "outputs": [],
   "source": [
    "A * v"
   ]
  },
  {
   "cell_type": "code",
   "execution_count": null,
   "metadata": {},
   "outputs": [],
   "source": [
    "A @ v"
   ]
  },
  {
   "cell_type": "code",
   "execution_count": null,
   "metadata": {},
   "outputs": [],
   "source": [
    "v @ B, B @ v"
   ]
  },
  {
   "cell_type": "markdown",
   "metadata": {},
   "source": [
    "## Matrix Transformations\n",
    "\n",
    "Let's write a few functions that apply affine transformations to a point/vector.\n",
    "\n",
    "Two small details: \n",
    "\n",
    "- We use homogenous coordinates (x,y,1) so that we can represent all transformations as matrix multiplications\n",
    "- All functions can be called withouth providing a point/vector as a parameter. In this case, the respective transformation matrix is returned. We can use these later."
   ]
  },
  {
   "cell_type": "code",
   "execution_count": null,
   "metadata": {},
   "outputs": [],
   "source": [
    "def translate(tx, ty, p=None):\n",
    "    T = M([[1, 0, tx],\n",
    "           [0, 1, ty],\n",
    "           [0, 0, 1]])\n",
    "    if p is None:\n",
    "        return T\n",
    "    else:\n",
    "        p = list(p)\n",
    "        p.append(1)\n",
    "        p = T @ p\n",
    "        x = p.tolist()[0][0]\n",
    "        y = p.tolist()[0][1]\n",
    "        return((x,y))"
   ]
  },
  {
   "cell_type": "code",
   "execution_count": null,
   "metadata": {},
   "outputs": [],
   "source": [
    "translate(97, 13, (3,-13))"
   ]
  },
  {
   "cell_type": "code",
   "execution_count": null,
   "metadata": {},
   "outputs": [],
   "source": [
    "def rotate(angle, p=None):\n",
    "    # degree to radian\n",
    "    angle = angle / (180/pi)\n",
    "    R = M([[cos(angle), -sin(angle), 0],\n",
    "          [sin(angle), cos(angle), 0],\n",
    "          [0, 0, 1]])\n",
    "    if p is None:\n",
    "        return R\n",
    "    else:\n",
    "        p = list(p)\n",
    "        p.append(1)\n",
    "        p = R @ p\n",
    "        x = p.tolist()[0][0]\n",
    "        y = p.tolist()[0][1]\n",
    "        return((x,y))"
   ]
  },
  {
   "cell_type": "code",
   "execution_count": null,
   "metadata": {},
   "outputs": [],
   "source": [
    "rotate(45, (2,2))"
   ]
  },
  {
   "cell_type": "code",
   "execution_count": null,
   "metadata": {},
   "outputs": [],
   "source": [
    "def scale(sx, sy, p=None):\n",
    "    S = M([[sx, 0, 0],\n",
    "           [0, sy, 0],\n",
    "           [0, 0, 1]])\n",
    "    if p is None:\n",
    "        return S\n",
    "    else:\n",
    "        p = list(p)\n",
    "        p.append(1)\n",
    "        p = S @ p\n",
    "        x = p.tolist()[0][0]\n",
    "        y = p.tolist()[0][1]\n",
    "        return((x,y))"
   ]
  },
  {
   "cell_type": "code",
   "execution_count": null,
   "metadata": {},
   "outputs": [],
   "source": [
    "scale(3, -0.3, (20, 5))"
   ]
  },
  {
   "cell_type": "code",
   "execution_count": null,
   "metadata": {},
   "outputs": [],
   "source": [
    "rotate(180, [10,0])"
   ]
  },
  {
   "cell_type": "code",
   "execution_count": null,
   "metadata": {},
   "outputs": [],
   "source": [
    "i = Image.new(\"L\",(100,100))\n",
    "for a in range(0, 360, 5):\n",
    "    _ = i.marker(map(int, translate(50,50, rotate(a, [40,0]))))\n",
    "display(i)"
   ]
  },
  {
   "cell_type": "code",
   "execution_count": null,
   "metadata": {},
   "outputs": [],
   "source": [
    "i = Image.new(\"L\",(100,100))\n",
    "i.marker((10,0), 2)\n",
    "i.marker(scale(4, 4, (10,0)), 4)\n",
    "i.marker(translate(20,20, scale(4, 4, (10,0))), 6)"
   ]
  },
  {
   "cell_type": "code",
   "execution_count": null,
   "metadata": {},
   "outputs": [],
   "source": [
    "A = translate(20,20)\n",
    "B = rotate(45)\n",
    "print(A @ B)"
   ]
  },
  {
   "cell_type": "code",
   "execution_count": null,
   "metadata": {},
   "outputs": [],
   "source": [
    "C = A @ B\n",
    "C @ (10,10, 1)"
   ]
  },
  {
   "cell_type": "markdown",
   "metadata": {},
   "source": [
    "### Next steps\n",
    "\n",
    "Draw a clock with hands and hour indicators.\n",
    "Bonus: have it show the current time"
   ]
  },
  {
   "cell_type": "code",
   "execution_count": null,
   "metadata": {},
   "outputs": [],
   "source": [
    "from datetime import datetime as dt"
   ]
  },
  {
   "cell_type": "code",
   "execution_count": null,
   "metadata": {},
   "outputs": [],
   "source": [
    "#def draw_shape(img, shape, color=255):\n",
    "#    for p1, p2 in pairwise_wrap(shape):\n",
    "#        naive_line(img, map(int, p1), map(int, p2), color)"
   ]
  },
  {
   "cell_type": "code",
   "execution_count": null,
   "metadata": {},
   "outputs": [],
   "source": [
    "def transform(shape, matrix):\n",
    "    ret = []\n",
    "    for point in shape:\n",
    "        if len(point) == 2:\n",
    "            point = list(point)\n",
    "            point.append(1)\n",
    "        elif len(point) != 3:\n",
    "            raise ValueError(\"Points need to have a length of 2 or 3.\")\n",
    "        p = matrix @ point\n",
    "        x = p.tolist()[0][0]\n",
    "        y = p.tolist()[0][1]\n",
    "        ret.append((x,y))\n",
    "    return ret"
   ]
  },
  {
   "cell_type": "code",
   "execution_count": null,
   "metadata": {},
   "outputs": [],
   "source": [
    "i = Image.new(\"L\",(100,100))\n",
    "rect = ((10,10), (10,90), (90,90), (90,10))\n",
    "rect2 = transform(rect, translate(50,50) @ rotate(45) @ scale(0.5, 0.5) @ translate(-50,-50))\n",
    "i.draw_shape(rect2)"
   ]
  },
  {
   "cell_type": "code",
   "execution_count": null,
   "metadata": {},
   "outputs": [],
   "source": [
    "def clock(warp = None, flt = None, color = 255, size = 400):\n",
    "    # assuming width/height of 400\n",
    "    hour_mark = ((0, 5), (45,5), (45,-5), (0,-5))\n",
    "    hour_hand = ((-5,5), (5,5), (5, -120), (-5, -120))\n",
    "    if warp is None:\n",
    "        warp = M('1 0 0; 0 1 0; 0 0 1') # identity\n",
    "    i = Image.new(\"L\", (size, size))\n",
    "    # marks\n",
    "    for a in range(0, 360, 30):\n",
    "        mat = warp @ translate(size/2,size/2) @ rotate(a) @ translate(size/3, 0) @ scale(size/400, size/400)\n",
    "        mark = transform(hour_mark, mat)\n",
    "        draw_shape(i, mark, int(color*0.7))\n",
    "    # hand\n",
    "    hour = dt.now().hour # 0-23\n",
    "    hour_mat = warp @ translate(size/2,size/2) @ rotate(30 * hour) @ scale(size/400, size/400)\n",
    "    hand = transform(hour_hand, hour_mat)\n",
    "    draw_shape(i, hand, color)\n",
    "    # minute\n",
    "    minute = dt.now().minute # 0-59\n",
    "    minute_mat = warp @ translate(size/2,size/2) @ rotate(6 * minute) @ scale(0.5, 1.3) @ scale(size/400, size/400)\n",
    "    hand = transform(hour_hand, minute_mat)\n",
    "    draw_shape(i, hand, color)\n",
    "    # second\n",
    "    second = dt.now().second # 0-59\n",
    "    second_mat = warp @ translate(size/2,size/2) @ rotate(6 * second) @ scale(0.2, 1.5) @ scale(size/400, size/400)\n",
    "    hand = transform(hour_hand, second_mat)\n",
    "    draw_shape(i, hand, color)\n",
    "    if flt is None:\n",
    "        return i\n",
    "    else:\n",
    "        return flt(i)"
   ]
  },
  {
   "cell_type": "code",
   "execution_count": null,
   "metadata": {},
   "outputs": [],
   "source": [
    "from IPython.display import DisplayHandle\n",
    "from time import sleep\n",
    "d = DisplayHandle()\n",
    "d.display(clock())"
   ]
  },
  {
   "cell_type": "code",
   "execution_count": null,
   "metadata": {},
   "outputs": [],
   "source": [
    "while True:\n",
    "    d.update(clock())\n",
    "    sleep(0.1)"
   ]
  },
  {
   "cell_type": "markdown",
   "metadata": {},
   "source": [
    "## Filters!"
   ]
  },
  {
   "cell_type": "code",
   "execution_count": null,
   "metadata": {},
   "outputs": [],
   "source": [
    "def convolution(kernel, image):\n",
    "    w, h = image.size\n",
    "    img_out = image.copy()\n",
    "    div = sum(kernel[0]) + sum(kernel[1]) + sum(kernel[2])\n",
    "    for x in range(1, w-1):\n",
    "        for y in range(1, h-1):\n",
    "            new_val = 0\n",
    "            for i in range(3):\n",
    "                for j in range(3):\n",
    "                    new_val += int(image.getpixel((x-1+i, y-1+j)) *\n",
    "                                    kernel[i][j] / (div+0.01))\n",
    "            img_out.putpixel((x,y), new_val)\n",
    "    return img_out\n",
    "\n",
    "def blur(image):\n",
    "    kernel = [[1,1,1],\n",
    "              [1,1,1],\n",
    "              [1,1,1]]\n",
    "    return convolution(kernel, image)"
   ]
  },
  {
   "cell_type": "code",
   "execution_count": null,
   "metadata": {},
   "outputs": [],
   "source": [
    "d = DisplayHandle()\n",
    "d.display(clock(None, blur))\n",
    "while True:\n",
    "    d.update(clock(None, blur))\n",
    "    sleep(1)"
   ]
  },
  {
   "cell_type": "markdown",
   "metadata": {},
   "source": [
    "### Faster convolution"
   ]
  },
  {
   "cell_type": "code",
   "execution_count": null,
   "metadata": {},
   "outputs": [],
   "source": [
    "from scipy.signal import convolve2d\n",
    "def fast_blur(img):\n",
    "    kernel = [[0,1,0],\n",
    "              [1,1,1],\n",
    "              [0,1,0]]\n",
    "    blurred = convolve2d(np.array(img, dtype=np.uint16), np.array(kernel, dtype=np.uint16), mode = \"same\") / 5 \n",
    "    #print(blurred)\n",
    "    return Image.fromarray(np.asarray(blurred, dtype=np.uint8))"
   ]
  },
  {
   "cell_type": "code",
   "execution_count": null,
   "metadata": {},
   "outputs": [],
   "source": [
    "fast_blur(i)"
   ]
  },
  {
   "cell_type": "code",
   "execution_count": null,
   "metadata": {},
   "outputs": [],
   "source": [
    "d = DisplayHandle()\n",
    "d.display(clock(None, fast_blur))\n",
    "while True:\n",
    "    d.update(clock(None, fast_blur))\n",
    "    sleep(1)"
   ]
  },
  {
   "cell_type": "markdown",
   "metadata": {},
   "source": [
    "## Some Animation!"
   ]
  },
  {
   "cell_type": "code",
   "execution_count": null,
   "metadata": {},
   "outputs": [],
   "source": [
    "w = 0.5\n",
    "change = -0.01\n",
    "while True:\n",
    "    w += change\n",
    "    if w <= -0.95 or w >= 0.95:\n",
    "        change = -change\n",
    "    mat = translate(200,0) @ scale(w, 1.0) @ translate(-200,0)\n",
    "    d.update(clock(mat))\n",
    "    sleep(0.01)"
   ]
  },
  {
   "cell_type": "code",
   "execution_count": null,
   "metadata": {},
   "outputs": [],
   "source": [
    "size = 400\n",
    "a = 0\n",
    "change = 0.01\n",
    "while True:\n",
    "    a += change\n",
    "    if a >= 2*pi:\n",
    "        a = 0\n",
    "    color = int(50 + abs(sin(a)) * 200)\n",
    "    mat = translate(size/2,0) @ scale(sin(a), 1.0) @ translate(-size/2,0)\n",
    "    d.update(clock(mat, fast_blur, color, size))\n",
    "    sleep(0.01)"
   ]
  },
  {
   "cell_type": "code",
   "execution_count": null,
   "metadata": {},
   "outputs": [],
   "source": []
  },
  {
   "cell_type": "code",
   "execution_count": null,
   "metadata": {},
   "outputs": [],
   "source": []
  }
 ],
 "metadata": {
  "kernelspec": {
   "display_name": "Python 3",
   "language": "python",
   "name": "python3"
  },
  "language_info": {
   "codemirror_mode": {
    "name": "ipython",
    "version": 3
   },
   "file_extension": ".py",
   "mimetype": "text/x-python",
   "name": "python",
   "nbconvert_exporter": "python",
   "pygments_lexer": "ipython3",
   "version": "3.10.5"
  }
 },
 "nbformat": 4,
 "nbformat_minor": 4
}
