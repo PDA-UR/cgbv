{
 "cells": [
  {
   "cell_type": "markdown",
   "id": "071c0ee3-e8b3-4cab-82fc-3d30bcc0206a",
   "metadata": {},
   "source": [
    "# Signed Distance Functions\n",
    "\n",
    "This notebook demonstrates the basic principles of signed distance functions (SDFs).\n",
    "All examples are in plain Python and in 2D only.\n",
    "For more practical SDF implementations in Python, check out Michael Fogleman's [sdf](https://github.com/fogleman/sdf) module or [Yann Büchaus's fork](https://github.com/nobodyinperson/sdf)"
   ]
  },
  {
   "cell_type": "code",
   "execution_count": null,
   "id": "983923e6-0f36-433b-bdd5-5d562d537e70",
   "metadata": {},
   "outputs": [],
   "source": [
    "from IPython.display import display\n",
    "from PIL import Image as PImage\n",
    "import math"
   ]
  },
  {
   "cell_type": "code",
   "execution_count": null,
   "id": "301fae0e-bb66-4965-91dd-fe3bdeb117ee",
   "metadata": {},
   "outputs": [],
   "source": [
    "i = PImage.new(\"L\", (300,300))\n",
    "display(i)"
   ]
  },
  {
   "cell_type": "code",
   "execution_count": null,
   "id": "13454aff-a149-4345-bad8-aa296185f236",
   "metadata": {},
   "outputs": [],
   "source": [
    "# Helper function:\n",
    "def length(p:tuple):\n",
    "    \"\"\"Returns the length of a 2D vector p (same as the distance of the point p from the origin)\"\"\"\n",
    "    x, y = p\n",
    "    return math.sqrt(x*x + y*y)"
   ]
  },
  {
   "cell_type": "code",
   "execution_count": null,
   "id": "015b14cf-c4e0-4d6a-9b73-9224d723bfa9",
   "metadata": {},
   "outputs": [],
   "source": [
    "# My first little SDF\n",
    "\n",
    "def circle(p: tuple[int|float], r: float):\n",
    "    \"\"\"Returns the distance of a point p to the edge of a circle around (0,0) with radius r.\n",
    "       For points on the edge of the circle return 0, for points inside the circle a negative value,\n",
    "       for points outside a positive value\"\"\"\n",
    "    return length(p) - r"
   ]
  },
  {
   "cell_type": "code",
   "execution_count": null,
   "id": "a4384b15-00a0-4f6a-9335-746dade85025",
   "metadata": {},
   "outputs": [],
   "source": [
    "assert circle(p=(0,3), r=2) == 1.0\n",
    "assert circle(p=(2,0), r=2) == 0.0\n",
    "assert circle(p=(1,0), r=2) == -1.0"
   ]
  },
  {
   "cell_type": "markdown",
   "id": "f2e1da21-736a-4981-a387-e57f0b1f43b7",
   "metadata": {},
   "source": [
    "Ok, now that this function works, let's draw a circle with it.\n",
    "We do this by testing for every pixel in the image whether it is inside the circle, outside, or on its edge."
   ]
  },
  {
   "cell_type": "code",
   "execution_count": null,
   "id": "6f5c37be-55e7-4fb1-948c-a34a2a048e95",
   "metadata": {},
   "outputs": [],
   "source": [
    "%%time\n",
    "for x in range(i.width):\n",
    "    for y in range(i.height):\n",
    "        value = circle((x,y), 80)\n",
    "        if value == 0.0: # edge\n",
    "            color = 255            \n",
    "        elif value < 0.0: # inside\n",
    "            color = 128\n",
    "        elif value > 0.0: # outside\n",
    "            color = 0\n",
    "        i.putpixel((x, y), color)\n",
    "display(i)"
   ]
  },
  {
   "cell_type": "markdown",
   "id": "80614121-3e30-4fde-a431-058b62916a1e",
   "metadata": {},
   "source": [
    "Ok, seems to work. But there are two problems:\n",
    "\n",
    "1. the white edge is only shown as a few individual pixels\n",
    "2. the circle is centered around the origin\n",
    "\n",
    "Let's fix both problems..."
   ]
  },
  {
   "cell_type": "markdown",
   "id": "5a26f968-862f-45ab-b856-6857f0b95d74",
   "metadata": {},
   "source": [
    "**Drawing a better border**:\n",
    "The reason why the border is only shown as individual pixels is that we only draw a border pixel if it lies exactly on the mathematically defined edge of the circle, i.e. if `math.sqrt(x*x+y*y) == r`\n",
    "As we only have pixels at integer locations, there are only a few of them exactly on the circle's edge. \n",
    "In our example, there are just four points:"
   ]
  },
  {
   "cell_type": "code",
   "execution_count": null,
   "id": "a1458bab-6e66-4193-84fc-62eb4f20834c",
   "metadata": {},
   "outputs": [],
   "source": [
    "for x in range(300):\n",
    "    for y in range(300):\n",
    "        if math.sqrt(x*x+y*y) == 80:\n",
    "            print(x,y)"
   ]
  },
  {
   "cell_type": "markdown",
   "id": "839741df-4c58-49fc-8222-87e3f84d74cb",
   "metadata": {},
   "source": [
    "So, let's accept a pixel as being on the edge of the circle if it is within half a pixel of the mathematically-defined edge."
   ]
  },
  {
   "cell_type": "code",
   "execution_count": null,
   "id": "cf6a22a4-74cf-47e0-867d-1555acc79348",
   "metadata": {},
   "outputs": [],
   "source": [
    "%%time\n",
    "for x in range(i.width):\n",
    "    for y in range(i.height):\n",
    "        value = circle((x,y), 80)\n",
    "        if abs(value) <= 0.5: # edge\n",
    "            color = 255\n",
    "        elif value < 0.0: # inside\n",
    "            color = 128\n",
    "        elif value > 0.0: # outside\n",
    "            color = 0\n",
    "        i.putpixel((x, y), color)\n",
    "display(i)"
   ]
  },
  {
   "cell_type": "markdown",
   "id": "b66b1085-9f0b-4cb8-8d5b-91625ad223a3",
   "metadata": {},
   "source": [
    "Great. We can increase the border size by changing the '0.5' value to larger values. \n",
    "Also, we could easily add antialiasing/smoothing of the border by checking how close to the edge a border pixel is and then adjusting its brightness accordingly.\n",
    "(Try it yourself!)"
   ]
  },
  {
   "cell_type": "code",
   "execution_count": null,
   "id": "474adebe-7d3a-496a-a475-dd04bec9f817",
   "metadata": {},
   "outputs": [],
   "source": [
    "%%time\n",
    "border = 6.0\n",
    "for x in range(i.width):\n",
    "    for y in range(i.height):\n",
    "        value = circle((x,y), 80)\n",
    "        if abs(value) <= border / 2: # edge\n",
    "            color = int(255 * (1 - abs(value) / (border / 2)))\n",
    "        elif value < 0.0: # inside\n",
    "            color = 0  # why did I change the inside to black? How would the antialiasing equation have to be changed in order to work with arbitrary background colors?\n",
    "        elif value > 0.0: # outside\n",
    "            color = 0\n",
    "        i.putpixel((x, y), color)\n",
    "display(i)"
   ]
  },
  {
   "cell_type": "markdown",
   "id": "2bb8114d-8afa-4d45-b5e8-0958d2619bff",
   "metadata": {},
   "source": [
    "**Arbitrary placement of the SDF shape:**\n",
    "The trick for placing an SDF-defined shape anywhere on the screen is to transform the position of the point to be checked first.\n",
    "In order to check whether a point p(x,y) is within a circle at position (cx,cy) and radius r on the screen, we first subtract (cx,cy) from the point and then check whether the resulting point p'(x-cx,y-cy) lies within the circle of radius r around the origin (0,0)."
   ]
  },
  {
   "cell_type": "code",
   "execution_count": null,
   "id": "5456213f-9274-43d3-a0d4-dc767668a98b",
   "metadata": {},
   "outputs": [],
   "source": [
    "def circle(p: tuple[int|float], r: float, c: tuple[int|float] = (0,0)):\n",
    "    \"\"\"Returns the distance of a point p to the edge of a circle around point c with radius r.\n",
    "       For points on the edge of the circle return 0, for points inside the circle a negative value,\n",
    "       for points outside a positive value\"\"\"\n",
    "    x, y = p  # extract coordinates\n",
    "    cx, cy = c \n",
    "    p = (x - cx, y - cy)\n",
    "    return length(p) - r"
   ]
  },
  {
   "cell_type": "code",
   "execution_count": null,
   "id": "e81e8780-c496-4409-8d79-753438a4e2ea",
   "metadata": {},
   "outputs": [],
   "source": [
    "%%time\n",
    "border = 1.0\n",
    "\n",
    "for x in range(i.width):\n",
    "    for y in range(i.height):\n",
    "        value = circle((x,y), 80, (150,150))\n",
    "        if abs(value) <= border/2:\n",
    "            color = 255\n",
    "        elif value < 0.0:\n",
    "            color = 128\n",
    "        elif value > 0.0:\n",
    "            color = 0\n",
    "        i.putpixel((x, y), color)\n",
    "display(i)"
   ]
  },
  {
   "cell_type": "markdown",
   "id": "63576c87-2b1d-47aa-accf-ae5a6d600704",
   "metadata": {},
   "source": [
    "# Other shapes\n",
    "We can also draw other shapes using SDFs. \n",
    "Inigo Quilez has a [nice collection](https://iquilezles.org/articles/distfunctions2d/) of 2D (and 3D) SDFs. \n",
    "As his SDFs are written in GLSL, they need to be translated into Python."
   ]
  },
  {
   "cell_type": "code",
   "execution_count": null,
   "id": "59e8e840-aa21-4aae-865d-2aa84dd98bd0",
   "metadata": {},
   "outputs": [],
   "source": [
    "def rect(p: tuple[int|float], size: tuple[int|float], center: tuple[int|float] = (0,0)):\n",
    "    # unpack tuples because Python does not allow e.g., subtracting one tuple from another (numpy does)\n",
    "    x, y = p\n",
    "    cx, cy = center\n",
    "    w, h = size\n",
    "    # transform point\n",
    "    x, y = (x - cx, y - cy)\n",
    "    # calculate rect SDF (https://iquilezles.org/articles/distfunctions2d/)\n",
    "    dx, dy = (abs(x) - w, abs(y) - h);\n",
    "    return length((max(dx, 0.0), max(dy, 0.0))) + min(max(dx,dy),0.0)"
   ]
  },
  {
   "cell_type": "code",
   "execution_count": null,
   "id": "fb1e9e9b-78b0-4628-8a8a-c091e57ff88f",
   "metadata": {},
   "outputs": [],
   "source": [
    "%%time\n",
    "border = 2.0\n",
    "\n",
    "for x in range(i.width):\n",
    "    for y in range(i.height):\n",
    "        value = rect((x,y), (80,30), (150,150))\n",
    "        if abs(value) <= border/2:\n",
    "            color = 255\n",
    "        elif value < 0.0:\n",
    "            color = 128\n",
    "        elif value > 0.0:\n",
    "            color = 0\n",
    "        i.putpixel((x, y), color)\n",
    "display(i)"
   ]
  },
  {
   "cell_type": "markdown",
   "id": "139fb266-68c5-4ea7-b007-da3bd4a30040",
   "metadata": {},
   "source": [
    "# Boolean Operations\n",
    "A nice thing about SDFs is that you can combine them using Boolean operations.\n",
    "(An explanation is outside the scope of this quick tutorial):"
   ]
  },
  {
   "cell_type": "code",
   "execution_count": null,
   "id": "55b9b2ba-6176-4046-8bbe-49daac575f39",
   "metadata": {},
   "outputs": [],
   "source": [
    "%%time\n",
    "# Union: min(sdf1, sdf2)\n",
    "border = 2.0\n",
    "\n",
    "for x in range(i.width):\n",
    "    for y in range(i.height):\n",
    "        value = min(circle((x,y), 50, (150,150)),\n",
    "                    rect((x,y), (100,20), (150,150)))\n",
    "        if abs(value) <= border/2:\n",
    "            color = 255\n",
    "        elif value < 0.0:\n",
    "            color = 128\n",
    "        elif value > 0.0:\n",
    "            color = 0\n",
    "        i.putpixel((x, y), color)\n",
    "display(i)"
   ]
  },
  {
   "cell_type": "code",
   "execution_count": null,
   "id": "0f677a03-9078-4088-a330-6f1a9fe64e59",
   "metadata": {},
   "outputs": [],
   "source": [
    "%%time\n",
    "# Intersection: max(sdf1, sdf2)\n",
    "border = 2.0\n",
    "\n",
    "for x in range(i.width):\n",
    "    for y in range(i.height):\n",
    "        value = max(circle((x,y), 50, (150,150)),\n",
    "                rect((x,y), (100,20), (150,150)))\n",
    "        if abs(value) <= border/2:\n",
    "            color = 255\n",
    "        elif value < 0.0:\n",
    "            color = 128\n",
    "        elif value > 0.0:\n",
    "            color = 0\n",
    "        i.putpixel((x, y), color)\n",
    "display(i)"
   ]
  },
  {
   "cell_type": "code",
   "execution_count": null,
   "id": "48f54d33-64e8-4a02-8fd5-86d08a7afe7a",
   "metadata": {},
   "outputs": [],
   "source": [
    "%%time\n",
    "# Difference: max(sdf1, -sdf2)\n",
    "border = 2.0\n",
    "\n",
    "for x in range(i.width):\n",
    "    for y in range(i.height):\n",
    "        value = max(circle((x,y), 50, (150,150)),\n",
    "                -rect((x,y), (100,20), (150,150)))\n",
    "        if abs(value) <= border/2:\n",
    "            color = 255\n",
    "        elif value < 0.0:\n",
    "            color = 128\n",
    "        elif value > 0.0:\n",
    "            color = 0\n",
    "        i.putpixel((x, y), color)\n",
    "display(i)"
   ]
  },
  {
   "cell_type": "code",
   "execution_count": null,
   "id": "fde97b6e-50c6-4bda-be33-a86899931969",
   "metadata": {},
   "outputs": [],
   "source": [
    "# To do (if you want): draw a smilie face or a car or something else using SDFs."
   ]
  },
  {
   "cell_type": "code",
   "execution_count": null,
   "id": "0ca40554-bbaa-48f8-90ab-e8633ba4f6f4",
   "metadata": {},
   "outputs": [],
   "source": [
    "# To do (if you want): create a set of functions that can be easily combined, e.g.:\n",
    "my_sdf = union(circle(80, (150,150)),\n",
    "               rect((80,30),(150,230)))\n",
    "my_canvas.draw(my_sdf)"
   ]
  }
 ],
 "metadata": {
  "kernelspec": {
   "display_name": "Python 3 (ipykernel)",
   "language": "python",
   "name": "python3"
  },
  "language_info": {
   "codemirror_mode": {
    "name": "ipython",
    "version": 3
   },
   "file_extension": ".py",
   "mimetype": "text/x-python",
   "name": "python",
   "nbconvert_exporter": "python",
   "pygments_lexer": "ipython3",
   "version": "3.11.9"
  }
 },
 "nbformat": 4,
 "nbformat_minor": 5
}
